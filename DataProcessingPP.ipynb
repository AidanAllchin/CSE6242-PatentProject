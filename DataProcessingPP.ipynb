{
 "cells": [
  {
   "cell_type": "markdown",
   "metadata": {},
   "source": [
    "# Patent Data"
   ]
  },
  {
   "cell_type": "markdown",
   "metadata": {},
   "source": [
    "### Warning\n",
    "\n",
    "This script has been modified to automate data download and environment setup. **Please ensure you're using your desired python environment before continuing**, and that you're running this from the GitHub repository root."
   ]
  },
  {
   "cell_type": "code",
   "execution_count": 9,
   "metadata": {},
   "outputs": [
    {
     "name": "stdout",
     "output_type": "stream",
     "text": [
      "Installing required packages, creating necessary directories, and downloading the data...\n",
      "PLEASE ENSURE YOU'RE USING YOUR DESIRED ENVIRONMENT!\n",
      "Installing required packages...\n",
      "Requirement already satisfied: colorama==0.4.6 in /Users/aidan/miniforge3/envs/cse6242/lib/python3.10/site-packages (from -r requirements.txt (line 1)) (0.4.6)\n",
      "Requirement already satisfied: flask==3.0.3 in /Users/aidan/miniforge3/envs/cse6242/lib/python3.10/site-packages (from -r requirements.txt (line 2)) (3.0.3)\n",
      "Requirement already satisfied: geopy==2.4.1 in /Users/aidan/miniforge3/envs/cse6242/lib/python3.10/site-packages (from -r requirements.txt (line 3)) (2.4.1)\n",
      "Requirement already satisfied: lxml==5.3.0 in /Users/aidan/miniforge3/envs/cse6242/lib/python3.10/site-packages (from -r requirements.txt (line 4)) (5.3.0)\n",
      "Requirement already satisfied: numpy==1.26.4 in /Users/aidan/miniforge3/envs/cse6242/lib/python3.10/site-packages (from -r requirements.txt (line 5)) (1.26.4)\n",
      "Requirement already satisfied: pandas==2.2.3 in /Users/aidan/miniforge3/envs/cse6242/lib/python3.10/site-packages (from -r requirements.txt (line 6)) (2.2.3)\n",
      "Requirement already satisfied: tqdm==4.66.5 in /Users/aidan/miniforge3/envs/cse6242/lib/python3.10/site-packages (from -r requirements.txt (line 7)) (4.66.5)\n",
      "Requirement already satisfied: Werkzeug>=3.0.0 in /Users/aidan/miniforge3/envs/cse6242/lib/python3.10/site-packages (from flask==3.0.3->-r requirements.txt (line 2)) (3.0.4)\n",
      "Requirement already satisfied: Jinja2>=3.1.2 in /Users/aidan/miniforge3/envs/cse6242/lib/python3.10/site-packages (from flask==3.0.3->-r requirements.txt (line 2)) (3.1.4)\n",
      "Requirement already satisfied: itsdangerous>=2.1.2 in /Users/aidan/miniforge3/envs/cse6242/lib/python3.10/site-packages (from flask==3.0.3->-r requirements.txt (line 2)) (2.2.0)\n",
      "Requirement already satisfied: click>=8.1.3 in /Users/aidan/miniforge3/envs/cse6242/lib/python3.10/site-packages (from flask==3.0.3->-r requirements.txt (line 2)) (8.1.7)\n",
      "Requirement already satisfied: blinker>=1.6.2 in /Users/aidan/miniforge3/envs/cse6242/lib/python3.10/site-packages (from flask==3.0.3->-r requirements.txt (line 2)) (1.8.2)\n",
      "Requirement already satisfied: geographiclib<3,>=1.52 in /Users/aidan/miniforge3/envs/cse6242/lib/python3.10/site-packages (from geopy==2.4.1->-r requirements.txt (line 3)) (2.0)\n",
      "Requirement already satisfied: python-dateutil>=2.8.2 in /Users/aidan/miniforge3/envs/cse6242/lib/python3.10/site-packages (from pandas==2.2.3->-r requirements.txt (line 6)) (2.9.0.post0)\n",
      "Requirement already satisfied: pytz>=2020.1 in /Users/aidan/miniforge3/envs/cse6242/lib/python3.10/site-packages (from pandas==2.2.3->-r requirements.txt (line 6)) (2024.1)\n",
      "Requirement already satisfied: tzdata>=2022.7 in /Users/aidan/miniforge3/envs/cse6242/lib/python3.10/site-packages (from pandas==2.2.3->-r requirements.txt (line 6)) (2024.1)\n",
      "Requirement already satisfied: MarkupSafe>=2.0 in /Users/aidan/miniforge3/envs/cse6242/lib/python3.10/site-packages (from Jinja2>=3.1.2->flask==3.0.3->-r requirements.txt (line 2)) (2.1.5)\n",
      "Requirement already satisfied: six>=1.5 in /Users/aidan/miniforge3/envs/cse6242/lib/python3.10/site-packages (from python-dateutil>=2.8.2->pandas==2.2.3->-r requirements.txt (line 6)) (1.16.0)\n",
      "\n",
      "\u001b[1m\u001b[36m--- DOWNLOADING RAW TABLES ---\u001b[0m\n",
      "\n",
      "\u001b[33m[init]: Downloading \u001b[2mg_patent.tsv\u001b[22m...\u001b[0m\n"
     ]
    },
    {
     "name": "stderr",
     "output_type": "stream",
     "text": [
      "  % Total    % Received % Xferd  Average Speed   Time    Time     Time  Current\n",
      "                                 Dload  Upload   Total   Spent    Left  Speed\n",
      "100  210M  100  210M    0     0  24.0M      0  0:00:08  0:00:08 --:--:-- 22.5M\n"
     ]
    },
    {
     "name": "stdout",
     "output_type": "stream",
     "text": [
      "\u001b[95m[init]: Unzipping \u001b[2mg_patent.tsv\u001b[22m...\u001b[0m\n",
      "Archive:  /Users/aidan/Library/CloudStorage/SynologyDrive-aidanSync/School/Masters/Fall 2024/CSE6242/project/project-laptop/CSE6242-PatentProject/data/raw/g_patent.tsv.zip\n",
      "  inflating: /Users/aidan/Library/CloudStorage/SynologyDrive-aidanSync/School/Masters/Fall 2024/CSE6242/project/project-laptop/CSE6242-PatentProject/data/raw/g_patent.tsv  \n",
      "\n",
      "\u001b[33m[init]: Downloading \u001b[2mg_inventor_not_disambiguated.tsv\u001b[22m...\u001b[0m\n"
     ]
    },
    {
     "name": "stderr",
     "output_type": "stream",
     "text": [
      "  % Total    % Received % Xferd  Average Speed   Time    Time     Time  Current\n",
      "                                 Dload  Upload   Total   Spent    Left  Speed\n",
      "100  927M  100  927M    0     0  22.0M      0  0:00:41  0:00:41 --:--:-- 10.1M\n"
     ]
    },
    {
     "name": "stdout",
     "output_type": "stream",
     "text": [
      "\u001b[95m[init]: Unzipping \u001b[2mg_inventor_not_disambiguated.tsv\u001b[22m...\u001b[0m\n",
      "Archive:  /Users/aidan/Library/CloudStorage/SynologyDrive-aidanSync/School/Masters/Fall 2024/CSE6242/project/project-laptop/CSE6242-PatentProject/data/raw/g_inventor_not_disambiguated.tsv.zip\n",
      "  inflating: /Users/aidan/Library/CloudStorage/SynologyDrive-aidanSync/School/Masters/Fall 2024/CSE6242/project/project-laptop/CSE6242-PatentProject/data/raw/g_inventor_not_disambiguated.tsv  \n",
      "\n",
      "\u001b[33m[init]: Downloading \u001b[2mg_location_not_disambiguated.tsv\u001b[22m...\u001b[0m\n"
     ]
    },
    {
     "name": "stderr",
     "output_type": "stream",
     "text": [
      "  % Total    % Received % Xferd  Average Speed   Time    Time     Time  Current\n",
      "                                 Dload  Upload   Total   Spent    Left  Speed\n",
      "100  992M  100  992M    0     0  6870k      0  0:02:27  0:02:27 --:--:-- 6575k\n"
     ]
    },
    {
     "name": "stdout",
     "output_type": "stream",
     "text": [
      "\u001b[95m[init]: Unzipping \u001b[2mg_location_not_disambiguated.tsv\u001b[22m...\u001b[0m\n",
      "Archive:  /Users/aidan/Library/CloudStorage/SynologyDrive-aidanSync/School/Masters/Fall 2024/CSE6242/project/project-laptop/CSE6242-PatentProject/data/raw/g_location_not_disambiguated.tsv.zip\n",
      "  inflating: /Users/aidan/Library/CloudStorage/SynologyDrive-aidanSync/School/Masters/Fall 2024/CSE6242/project/project-laptop/CSE6242-PatentProject/data/raw/g_location_not_disambiguated.tsv  \n",
      "\n",
      "\u001b[33m[init]: Downloading \u001b[2mg_assignee_not_disambiguated.tsv\u001b[22m...\u001b[0m\n"
     ]
    },
    {
     "name": "stderr",
     "output_type": "stream",
     "text": [
      "  % Total    % Received % Xferd  Average Speed   Time    Time     Time  Current\n",
      "                                 Dload  Upload   Total   Spent    Left  Speed\n",
      "100  449M  100  449M    0     0  11.0M      0  0:00:40  0:00:40 --:--:-- 11.1M\n"
     ]
    },
    {
     "name": "stdout",
     "output_type": "stream",
     "text": [
      "\u001b[95m[init]: Unzipping \u001b[2mg_assignee_not_disambiguated.tsv\u001b[22m...\u001b[0m\n",
      "Archive:  /Users/aidan/Library/CloudStorage/SynologyDrive-aidanSync/School/Masters/Fall 2024/CSE6242/project/project-laptop/CSE6242-PatentProject/data/raw/g_assignee_not_disambiguated.tsv.zip\n",
      "  inflating: /Users/aidan/Library/CloudStorage/SynologyDrive-aidanSync/School/Masters/Fall 2024/CSE6242/project/project-laptop/CSE6242-PatentProject/data/raw/g_assignee_not_disambiguated.tsv  \n",
      "\n",
      "\u001b[33m[init]: Downloading \u001b[2mg_wipo_technology.tsv\u001b[22m...\u001b[0m\n"
     ]
    },
    {
     "name": "stderr",
     "output_type": "stream",
     "text": [
      "  % Total    % Received % Xferd  Average Speed   Time    Time     Time  Current\n",
      "                                 Dload  Upload   Total   Spent    Left  Speed\n",
      "100 45.3M  100 45.3M    0     0  9855k      0  0:00:04  0:00:04 --:--:--  9.7M\n"
     ]
    },
    {
     "name": "stdout",
     "output_type": "stream",
     "text": [
      "\u001b[95m[init]: Unzipping \u001b[2mg_wipo_technology.tsv\u001b[22m...\u001b[0m\n",
      "Archive:  /Users/aidan/Library/CloudStorage/SynologyDrive-aidanSync/School/Masters/Fall 2024/CSE6242/project/project-laptop/CSE6242-PatentProject/data/raw/g_wipo_technology.tsv.zip\n",
      "  inflating: /Users/aidan/Library/CloudStorage/SynologyDrive-aidanSync/School/Masters/Fall 2024/CSE6242/project/project-laptop/CSE6242-PatentProject/data/raw/g_wipo_technology.tsv  \n",
      "\u001b[32m[init]: \u001b[22mAll raw tables downloaded.\u001b[0m\n",
      "\u001b[1m\u001b[32m[init]:\u001b[22m Initialization complete.\u001b[0m\n"
     ]
    },
    {
     "data": {
      "text/plain": [
       "CompletedProcess(args=['python3', '__init__.py'], returncode=0)"
      ]
     },
     "execution_count": 9,
     "metadata": {},
     "output_type": "execute_result"
    }
   ],
   "source": [
    "import pandas as pd\n",
    "import os, sys, subprocess\n",
    "\n",
    "# This does all the setup steps for the project - don't modify it\n",
    "subprocess.run(['python3', '__init__.py'])"
   ]
  },
  {
   "cell_type": "code",
   "execution_count": null,
   "metadata": {},
   "outputs": [
    {
     "name": "stderr",
     "output_type": "stream",
     "text": [
      "/var/folders/sx/6f330c0s1lx73cf7ntt5h3340000gp/T/ipykernel_85489/1994904581.py:9: DtypeWarning: Columns (0) have mixed types. Specify dtype option on import or set low_memory=False.\n",
      "  patents_g = pd.read_csv(patents_g_p, sep='\\t')\n"
     ]
    }
   ],
   "source": [
    "# Paths (modified to be relative to the current working directory)\n",
    "patents_g_p   = os.path.join(os.getcwd(), 'data', 'raw', 'g_patent.tsv')\n",
    "applicant_g_p = os.path.join(os.getcwd(), 'data', 'raw', 'g_inventor_not_disambiguated.tsv')\n",
    "location_g_p  = os.path.join(os.getcwd(), 'data', 'raw', 'g_location_not_disambiguated.tsv')\n",
    "assignee_g_p  = os.path.join(os.getcwd(), 'data', 'raw', 'g_assignee_not_disambiguated.tsv')\n",
    "wipo_g_p      = os.path.join(os.getcwd(), 'data', 'raw', 'g_wipo_technology.tsv')\n",
    "\n",
    "# Loading everything into memory takes over a minute\n",
    "#patent information\n",
    "patents_g = pd.read_csv(patents_g_p, sep='\\t')\n",
    "\n",
    "#applicant information (include multiple per patent doing seq = 0 should be primary)\n",
    "applicant_g = pd.read_csv(applicant_g_p, sep='\\t')\n",
    "\n",
    "# raw location not disambiguated (e.g, no coordinates)\n",
    "location_g = pd.read_csv(location_g_p, sep='\\t')\n",
    "\n",
    "#get organization\n",
    "assignee_g = pd.read_csv(assignee_g_p, sep='\\t')\n",
    "\n",
    "#the sector and type of patent\n",
    "wipo_g = pd.read_csv(wipo_g_p, sep='\\t')"
   ]
  },
  {
   "cell_type": "markdown",
   "metadata": {},
   "source": [
    "## Data Table Visualization "
   ]
  },
  {
   "cell_type": "code",
   "execution_count": 11,
   "metadata": {},
   "outputs": [],
   "source": [
    "## primary inventor...\n",
    "prim_inventor = applicant_g[applicant_g['inventor_sequence'] == 0]"
   ]
  },
  {
   "cell_type": "code",
   "execution_count": 12,
   "metadata": {},
   "outputs": [
    {
     "data": {
      "text/html": [
       "<div>\n",
       "<style scoped>\n",
       "    .dataframe tbody tr th:only-of-type {\n",
       "        vertical-align: middle;\n",
       "    }\n",
       "\n",
       "    .dataframe tbody tr th {\n",
       "        vertical-align: top;\n",
       "    }\n",
       "\n",
       "    .dataframe thead th {\n",
       "        text-align: right;\n",
       "    }\n",
       "</style>\n",
       "<table border=\"1\" class=\"dataframe\">\n",
       "  <thead>\n",
       "    <tr style=\"text-align: right;\">\n",
       "      <th></th>\n",
       "      <th>patent_id</th>\n",
       "      <th>inventor_sequence</th>\n",
       "      <th>inventor_id</th>\n",
       "      <th>raw_inventor_name_first</th>\n",
       "      <th>raw_inventor_name_last</th>\n",
       "      <th>deceased_flag</th>\n",
       "      <th>rawlocation_id</th>\n",
       "    </tr>\n",
       "  </thead>\n",
       "  <tbody>\n",
       "    <tr>\n",
       "      <th>0</th>\n",
       "      <td>D1006496</td>\n",
       "      <td>0</td>\n",
       "      <td>fl:we_ln:jiang-128</td>\n",
       "      <td>Wenjing</td>\n",
       "      <td>Jiang</td>\n",
       "      <td>0</td>\n",
       "      <td>30zgod902k0u495w9b2sb8xk9</td>\n",
       "    </tr>\n",
       "    <tr>\n",
       "      <th>2</th>\n",
       "      <td>6584128</td>\n",
       "      <td>0</td>\n",
       "      <td>fl:ri_ln:kroeger-1</td>\n",
       "      <td>Richard</td>\n",
       "      <td>Kroeger</td>\n",
       "      <td>FALSE</td>\n",
       "      <td>o2ema6bl3kkh6iwziprbzu4m9</td>\n",
       "    </tr>\n",
       "    <tr>\n",
       "      <th>3</th>\n",
       "      <td>4789863</td>\n",
       "      <td>0</td>\n",
       "      <td>fl:th_ln:bush-1</td>\n",
       "      <td>Thomas A.</td>\n",
       "      <td>Bush</td>\n",
       "      <td>FALSE</td>\n",
       "      <td>tkz70bmoqx88n1lfz3fl657lh</td>\n",
       "    </tr>\n",
       "    <tr>\n",
       "      <th>6</th>\n",
       "      <td>D474886</td>\n",
       "      <td>0</td>\n",
       "      <td>fl:th_ln:fleming-4</td>\n",
       "      <td>Thomas W.</td>\n",
       "      <td>Fleming</td>\n",
       "      <td>FALSE</td>\n",
       "      <td>cmf9hebugybql8ufffo47uwcz</td>\n",
       "    </tr>\n",
       "    <tr>\n",
       "      <th>8</th>\n",
       "      <td>7646155</td>\n",
       "      <td>0</td>\n",
       "      <td>fl:sa_ln:woods-2</td>\n",
       "      <td>Samuel G</td>\n",
       "      <td>Woods</td>\n",
       "      <td>FALSE</td>\n",
       "      <td>omi6wqlrblholsssk9qx0dz5b</td>\n",
       "    </tr>\n",
       "  </tbody>\n",
       "</table>\n",
       "</div>"
      ],
      "text/plain": [
       "  patent_id  inventor_sequence         inventor_id raw_inventor_name_first  \\\n",
       "0  D1006496                  0  fl:we_ln:jiang-128                 Wenjing   \n",
       "2   6584128                  0  fl:ri_ln:kroeger-1                 Richard   \n",
       "3   4789863                  0     fl:th_ln:bush-1               Thomas A.   \n",
       "6   D474886                  0  fl:th_ln:fleming-4               Thomas W.   \n",
       "8   7646155                  0    fl:sa_ln:woods-2                Samuel G   \n",
       "\n",
       "  raw_inventor_name_last deceased_flag             rawlocation_id  \n",
       "0                  Jiang             0  30zgod902k0u495w9b2sb8xk9  \n",
       "2                Kroeger         FALSE  o2ema6bl3kkh6iwziprbzu4m9  \n",
       "3                   Bush         FALSE  tkz70bmoqx88n1lfz3fl657lh  \n",
       "6                Fleming         FALSE  cmf9hebugybql8ufffo47uwcz  \n",
       "8                  Woods         FALSE  omi6wqlrblholsssk9qx0dz5b  "
      ]
     },
     "execution_count": 12,
     "metadata": {},
     "output_type": "execute_result"
    }
   ],
   "source": [
    "prim_inventor.head(5)"
   ]
  },
  {
   "cell_type": "code",
   "execution_count": 13,
   "metadata": {},
   "outputs": [
    {
     "data": {
      "text/html": [
       "<div>\n",
       "<style scoped>\n",
       "    .dataframe tbody tr th:only-of-type {\n",
       "        vertical-align: middle;\n",
       "    }\n",
       "\n",
       "    .dataframe tbody tr th {\n",
       "        vertical-align: top;\n",
       "    }\n",
       "\n",
       "    .dataframe thead th {\n",
       "        text-align: right;\n",
       "    }\n",
       "</style>\n",
       "<table border=\"1\" class=\"dataframe\">\n",
       "  <thead>\n",
       "    <tr style=\"text-align: right;\">\n",
       "      <th></th>\n",
       "      <th>patent_id</th>\n",
       "      <th>inventor_sequence</th>\n",
       "      <th>inventor_id</th>\n",
       "      <th>raw_inventor_name_first</th>\n",
       "      <th>raw_inventor_name_last</th>\n",
       "      <th>deceased_flag</th>\n",
       "      <th>rawlocation_id</th>\n",
       "    </tr>\n",
       "  </thead>\n",
       "  <tbody>\n",
       "    <tr>\n",
       "      <th>0</th>\n",
       "      <td>D1006496</td>\n",
       "      <td>0</td>\n",
       "      <td>fl:we_ln:jiang-128</td>\n",
       "      <td>Wenjing</td>\n",
       "      <td>Jiang</td>\n",
       "      <td>0</td>\n",
       "      <td>30zgod902k0u495w9b2sb8xk9</td>\n",
       "    </tr>\n",
       "    <tr>\n",
       "      <th>1</th>\n",
       "      <td>12029253</td>\n",
       "      <td>4</td>\n",
       "      <td>fl:ei_ln:baumker-1</td>\n",
       "      <td>Eiko</td>\n",
       "      <td>Bäumker</td>\n",
       "      <td>0</td>\n",
       "      <td>468lxxjgdkuh0uonw27yj3t3f</td>\n",
       "    </tr>\n",
       "    <tr>\n",
       "      <th>2</th>\n",
       "      <td>6584128</td>\n",
       "      <td>0</td>\n",
       "      <td>fl:ri_ln:kroeger-1</td>\n",
       "      <td>Richard</td>\n",
       "      <td>Kroeger</td>\n",
       "      <td>FALSE</td>\n",
       "      <td>o2ema6bl3kkh6iwziprbzu4m9</td>\n",
       "    </tr>\n",
       "    <tr>\n",
       "      <th>3</th>\n",
       "      <td>4789863</td>\n",
       "      <td>0</td>\n",
       "      <td>fl:th_ln:bush-1</td>\n",
       "      <td>Thomas A.</td>\n",
       "      <td>Bush</td>\n",
       "      <td>FALSE</td>\n",
       "      <td>tkz70bmoqx88n1lfz3fl657lh</td>\n",
       "    </tr>\n",
       "    <tr>\n",
       "      <th>4</th>\n",
       "      <td>11161990</td>\n",
       "      <td>1</td>\n",
       "      <td>fl:ma_ln:boudreaux-4</td>\n",
       "      <td>Matthew F.</td>\n",
       "      <td>Boudreaux</td>\n",
       "      <td>False</td>\n",
       "      <td>up8ym622ssh09vpqv9rdsygs0</td>\n",
       "    </tr>\n",
       "  </tbody>\n",
       "</table>\n",
       "</div>"
      ],
      "text/plain": [
       "  patent_id  inventor_sequence           inventor_id raw_inventor_name_first  \\\n",
       "0  D1006496                  0    fl:we_ln:jiang-128                 Wenjing   \n",
       "1  12029253                  4    fl:ei_ln:baumker-1                    Eiko   \n",
       "2   6584128                  0    fl:ri_ln:kroeger-1                 Richard   \n",
       "3   4789863                  0       fl:th_ln:bush-1               Thomas A.   \n",
       "4  11161990                  1  fl:ma_ln:boudreaux-4              Matthew F.   \n",
       "\n",
       "  raw_inventor_name_last deceased_flag             rawlocation_id  \n",
       "0                  Jiang             0  30zgod902k0u495w9b2sb8xk9  \n",
       "1                Bäumker             0  468lxxjgdkuh0uonw27yj3t3f  \n",
       "2                Kroeger         FALSE  o2ema6bl3kkh6iwziprbzu4m9  \n",
       "3                   Bush         FALSE  tkz70bmoqx88n1lfz3fl657lh  \n",
       "4              Boudreaux         False  up8ym622ssh09vpqv9rdsygs0  "
      ]
     },
     "execution_count": 13,
     "metadata": {},
     "output_type": "execute_result"
    }
   ],
   "source": [
    "applicant_g.head(5)"
   ]
  },
  {
   "cell_type": "code",
   "execution_count": 14,
   "metadata": {},
   "outputs": [
    {
     "data": {
      "text/plain": [
       "8979043"
      ]
     },
     "execution_count": 14,
     "metadata": {},
     "output_type": "execute_result"
    }
   ],
   "source": [
    "len(applicant_g['patent_id'].unique())"
   ]
  },
  {
   "cell_type": "code",
   "execution_count": 15,
   "metadata": {},
   "outputs": [
    {
     "data": {
      "text/plain": [
       "8979043"
      ]
     },
     "execution_count": 15,
     "metadata": {},
     "output_type": "execute_result"
    }
   ],
   "source": [
    "sum(applicant_g['inventor_sequence'] == 0)"
   ]
  },
  {
   "cell_type": "markdown",
   "metadata": {},
   "source": [
    "### Patent"
   ]
  },
  {
   "cell_type": "code",
   "execution_count": 16,
   "metadata": {},
   "outputs": [
    {
     "data": {
      "text/html": [
       "<div>\n",
       "<style scoped>\n",
       "    .dataframe tbody tr th:only-of-type {\n",
       "        vertical-align: middle;\n",
       "    }\n",
       "\n",
       "    .dataframe tbody tr th {\n",
       "        vertical-align: top;\n",
       "    }\n",
       "\n",
       "    .dataframe thead th {\n",
       "        text-align: right;\n",
       "    }\n",
       "</style>\n",
       "<table border=\"1\" class=\"dataframe\">\n",
       "  <thead>\n",
       "    <tr style=\"text-align: right;\">\n",
       "      <th></th>\n",
       "      <th>patent_id</th>\n",
       "      <th>patent_type</th>\n",
       "      <th>patent_date</th>\n",
       "      <th>patent_title</th>\n",
       "      <th>wipo_kind</th>\n",
       "      <th>num_claims</th>\n",
       "      <th>withdrawn</th>\n",
       "      <th>filename</th>\n",
       "    </tr>\n",
       "  </thead>\n",
       "  <tbody>\n",
       "    <tr>\n",
       "      <th>0</th>\n",
       "      <td>10000000</td>\n",
       "      <td>utility</td>\n",
       "      <td>2018-06-19</td>\n",
       "      <td>Coherent LADAR using intra-pixel quadrature de...</td>\n",
       "      <td>B2</td>\n",
       "      <td>20</td>\n",
       "      <td>0</td>\n",
       "      <td>ipg180619.xml</td>\n",
       "    </tr>\n",
       "    <tr>\n",
       "      <th>1</th>\n",
       "      <td>10000001</td>\n",
       "      <td>utility</td>\n",
       "      <td>2018-06-19</td>\n",
       "      <td>Injection molding machine and mold thickness c...</td>\n",
       "      <td>B2</td>\n",
       "      <td>12</td>\n",
       "      <td>0</td>\n",
       "      <td>ipg180619.xml</td>\n",
       "    </tr>\n",
       "    <tr>\n",
       "      <th>2</th>\n",
       "      <td>10000002</td>\n",
       "      <td>utility</td>\n",
       "      <td>2018-06-19</td>\n",
       "      <td>Method for manufacturing polymer film and co-e...</td>\n",
       "      <td>B2</td>\n",
       "      <td>9</td>\n",
       "      <td>0</td>\n",
       "      <td>ipg180619.xml</td>\n",
       "    </tr>\n",
       "    <tr>\n",
       "      <th>3</th>\n",
       "      <td>10000003</td>\n",
       "      <td>utility</td>\n",
       "      <td>2018-06-19</td>\n",
       "      <td>Method for producing a container from a thermo...</td>\n",
       "      <td>B2</td>\n",
       "      <td>18</td>\n",
       "      <td>0</td>\n",
       "      <td>ipg180619.xml</td>\n",
       "    </tr>\n",
       "    <tr>\n",
       "      <th>4</th>\n",
       "      <td>10000004</td>\n",
       "      <td>utility</td>\n",
       "      <td>2018-06-19</td>\n",
       "      <td>Process of obtaining a double-oriented film, c...</td>\n",
       "      <td>B2</td>\n",
       "      <td>6</td>\n",
       "      <td>0</td>\n",
       "      <td>ipg180619.xml</td>\n",
       "    </tr>\n",
       "  </tbody>\n",
       "</table>\n",
       "</div>"
      ],
      "text/plain": [
       "  patent_id patent_type patent_date  \\\n",
       "0  10000000     utility  2018-06-19   \n",
       "1  10000001     utility  2018-06-19   \n",
       "2  10000002     utility  2018-06-19   \n",
       "3  10000003     utility  2018-06-19   \n",
       "4  10000004     utility  2018-06-19   \n",
       "\n",
       "                                        patent_title wipo_kind  num_claims  \\\n",
       "0  Coherent LADAR using intra-pixel quadrature de...        B2          20   \n",
       "1  Injection molding machine and mold thickness c...        B2          12   \n",
       "2  Method for manufacturing polymer film and co-e...        B2           9   \n",
       "3  Method for producing a container from a thermo...        B2          18   \n",
       "4  Process of obtaining a double-oriented film, c...        B2           6   \n",
       "\n",
       "   withdrawn       filename  \n",
       "0          0  ipg180619.xml  \n",
       "1          0  ipg180619.xml  \n",
       "2          0  ipg180619.xml  \n",
       "3          0  ipg180619.xml  \n",
       "4          0  ipg180619.xml  "
      ]
     },
     "execution_count": 16,
     "metadata": {},
     "output_type": "execute_result"
    }
   ],
   "source": [
    "patents_g.head(5)"
   ]
  },
  {
   "cell_type": "markdown",
   "metadata": {},
   "source": [
    "### Location"
   ]
  },
  {
   "cell_type": "code",
   "execution_count": 17,
   "metadata": {},
   "outputs": [
    {
     "data": {
      "text/html": [
       "<div>\n",
       "<style scoped>\n",
       "    .dataframe tbody tr th:only-of-type {\n",
       "        vertical-align: middle;\n",
       "    }\n",
       "\n",
       "    .dataframe tbody tr th {\n",
       "        vertical-align: top;\n",
       "    }\n",
       "\n",
       "    .dataframe thead th {\n",
       "        text-align: right;\n",
       "    }\n",
       "</style>\n",
       "<table border=\"1\" class=\"dataframe\">\n",
       "  <thead>\n",
       "    <tr style=\"text-align: right;\">\n",
       "      <th></th>\n",
       "      <th>rawlocation_id</th>\n",
       "      <th>location_id</th>\n",
       "      <th>raw_city</th>\n",
       "      <th>raw_state</th>\n",
       "      <th>raw_country</th>\n",
       "    </tr>\n",
       "  </thead>\n",
       "  <tbody>\n",
       "    <tr>\n",
       "      <th>0</th>\n",
       "      <td>000005mtrirpdyrtlkfbffj0e</td>\n",
       "      <td>1d2251c8-16c8-11ed-9b5f-1234bde3cd05</td>\n",
       "      <td>Kanagawa</td>\n",
       "      <td>NaN</td>\n",
       "      <td>JP</td>\n",
       "    </tr>\n",
       "    <tr>\n",
       "      <th>1</th>\n",
       "      <td>00006fjnoq057no2s4bse374r</td>\n",
       "      <td>439af3dd-16c8-11ed-9b5f-1234bde3cd05</td>\n",
       "      <td>Dallas</td>\n",
       "      <td>TX</td>\n",
       "      <td>US</td>\n",
       "    </tr>\n",
       "    <tr>\n",
       "      <th>2</th>\n",
       "      <td>0000bztanu9rrtm943i8a7wry</td>\n",
       "      <td>8d09bc30-16c8-11ed-9b5f-1234bde3cd05</td>\n",
       "      <td>Osaka</td>\n",
       "      <td>NaN</td>\n",
       "      <td>JP</td>\n",
       "    </tr>\n",
       "    <tr>\n",
       "      <th>3</th>\n",
       "      <td>0000c07c-672a-48d9-a3bb-71c439ac17b3</td>\n",
       "      <td>280c9de4-16c8-11ed-9b5f-1234bde3cd05</td>\n",
       "      <td>NaN</td>\n",
       "      <td>NaN</td>\n",
       "      <td>DE</td>\n",
       "    </tr>\n",
       "    <tr>\n",
       "      <th>4</th>\n",
       "      <td>0000dpr8zljw34um291yal5ym</td>\n",
       "      <td>cf4944e5-16c7-11ed-9b5f-1234bde3cd05</td>\n",
       "      <td>Sugar Land</td>\n",
       "      <td>TX</td>\n",
       "      <td>US</td>\n",
       "    </tr>\n",
       "  </tbody>\n",
       "</table>\n",
       "</div>"
      ],
      "text/plain": [
       "                         rawlocation_id                           location_id  \\\n",
       "0             000005mtrirpdyrtlkfbffj0e  1d2251c8-16c8-11ed-9b5f-1234bde3cd05   \n",
       "1             00006fjnoq057no2s4bse374r  439af3dd-16c8-11ed-9b5f-1234bde3cd05   \n",
       "2             0000bztanu9rrtm943i8a7wry  8d09bc30-16c8-11ed-9b5f-1234bde3cd05   \n",
       "3  0000c07c-672a-48d9-a3bb-71c439ac17b3  280c9de4-16c8-11ed-9b5f-1234bde3cd05   \n",
       "4             0000dpr8zljw34um291yal5ym  cf4944e5-16c7-11ed-9b5f-1234bde3cd05   \n",
       "\n",
       "     raw_city raw_state raw_country  \n",
       "0    Kanagawa       NaN          JP  \n",
       "1      Dallas        TX          US  \n",
       "2       Osaka       NaN          JP  \n",
       "3         NaN       NaN          DE  \n",
       "4  Sugar Land        TX          US  "
      ]
     },
     "execution_count": 17,
     "metadata": {},
     "output_type": "execute_result"
    }
   ],
   "source": [
    "location_g.head(5)"
   ]
  },
  {
   "cell_type": "markdown",
   "metadata": {},
   "source": [
    "### Wipo Technology"
   ]
  },
  {
   "cell_type": "code",
   "execution_count": 18,
   "metadata": {},
   "outputs": [
    {
     "data": {
      "text/html": [
       "<div>\n",
       "<style scoped>\n",
       "    .dataframe tbody tr th:only-of-type {\n",
       "        vertical-align: middle;\n",
       "    }\n",
       "\n",
       "    .dataframe tbody tr th {\n",
       "        vertical-align: top;\n",
       "    }\n",
       "\n",
       "    .dataframe thead th {\n",
       "        text-align: right;\n",
       "    }\n",
       "</style>\n",
       "<table border=\"1\" class=\"dataframe\">\n",
       "  <thead>\n",
       "    <tr style=\"text-align: right;\">\n",
       "      <th></th>\n",
       "      <th>patent_id</th>\n",
       "      <th>wipo_field_sequence</th>\n",
       "      <th>wipo_field_id</th>\n",
       "      <th>wipo_sector_title</th>\n",
       "      <th>wipo_field_title</th>\n",
       "    </tr>\n",
       "  </thead>\n",
       "  <tbody>\n",
       "    <tr>\n",
       "      <th>0</th>\n",
       "      <td>10000000</td>\n",
       "      <td>0</td>\n",
       "      <td>10</td>\n",
       "      <td>Instruments</td>\n",
       "      <td>Measurement</td>\n",
       "    </tr>\n",
       "    <tr>\n",
       "      <th>1</th>\n",
       "      <td>10000001</td>\n",
       "      <td>0</td>\n",
       "      <td>29</td>\n",
       "      <td>Mechanical engineering</td>\n",
       "      <td>Other special machines</td>\n",
       "    </tr>\n",
       "    <tr>\n",
       "      <th>2</th>\n",
       "      <td>10000001</td>\n",
       "      <td>1</td>\n",
       "      <td>12</td>\n",
       "      <td>Instruments</td>\n",
       "      <td>Control</td>\n",
       "    </tr>\n",
       "    <tr>\n",
       "      <th>3</th>\n",
       "      <td>10000002</td>\n",
       "      <td>0</td>\n",
       "      <td>21</td>\n",
       "      <td>Chemistry</td>\n",
       "      <td>Surface technology, coating</td>\n",
       "    </tr>\n",
       "    <tr>\n",
       "      <th>4</th>\n",
       "      <td>10000002</td>\n",
       "      <td>1</td>\n",
       "      <td>29</td>\n",
       "      <td>Mechanical engineering</td>\n",
       "      <td>Other special machines</td>\n",
       "    </tr>\n",
       "  </tbody>\n",
       "</table>\n",
       "</div>"
      ],
      "text/plain": [
       "   patent_id  wipo_field_sequence  wipo_field_id       wipo_sector_title  \\\n",
       "0   10000000                    0             10             Instruments   \n",
       "1   10000001                    0             29  Mechanical engineering   \n",
       "2   10000001                    1             12             Instruments   \n",
       "3   10000002                    0             21               Chemistry   \n",
       "4   10000002                    1             29  Mechanical engineering   \n",
       "\n",
       "              wipo_field_title  \n",
       "0                  Measurement  \n",
       "1       Other special machines  \n",
       "2                      Control  \n",
       "3  Surface technology, coating  \n",
       "4       Other special machines  "
      ]
     },
     "execution_count": 18,
     "metadata": {},
     "output_type": "execute_result"
    }
   ],
   "source": [
    "wipo_g.head(5)"
   ]
  },
  {
   "cell_type": "markdown",
   "metadata": {},
   "source": [
    "## Merging Data"
   ]
  },
  {
   "cell_type": "markdown",
   "metadata": {},
   "source": [
    "#### Assure all ids are string type is there is no issue when merging"
   ]
  },
  {
   "cell_type": "code",
   "execution_count": 21,
   "metadata": {},
   "outputs": [],
   "source": [
    "patents_g.loc[:, 'patent_id']     = patents_g['patent_id'].astype('string')\n",
    "prim_inventor.loc[:, 'patent_id'] = prim_inventor['patent_id'].astype('string')\n",
    "wipo_g.loc[:, 'patent_id']        = wipo_g['patent_id'].astype('string')"
   ]
  },
  {
   "cell_type": "markdown",
   "metadata": {},
   "source": [
    "#### Merge location and assignee"
   ]
  },
  {
   "cell_type": "code",
   "execution_count": 22,
   "metadata": {},
   "outputs": [],
   "source": [
    "prim_assign  = assignee_g[assignee_g['assignee_sequence'] == 0]\n",
    "organization = prim_assign[['patent_id', 'raw_assignee_organization']]"
   ]
  },
  {
   "cell_type": "code",
   "execution_count": 24,
   "metadata": {},
   "outputs": [],
   "source": [
    "organization.loc[:, 'patent_id'] = organization['patent_id'].astype('string')"
   ]
  },
  {
   "cell_type": "code",
   "execution_count": 25,
   "metadata": {},
   "outputs": [],
   "source": [
    "prim_inventor = pd.merge(prim_inventor, organization, on = 'patent_id', how = 'left')"
   ]
  },
  {
   "cell_type": "code",
   "execution_count": 26,
   "metadata": {},
   "outputs": [
    {
     "data": {
      "text/html": [
       "<div>\n",
       "<style scoped>\n",
       "    .dataframe tbody tr th:only-of-type {\n",
       "        vertical-align: middle;\n",
       "    }\n",
       "\n",
       "    .dataframe tbody tr th {\n",
       "        vertical-align: top;\n",
       "    }\n",
       "\n",
       "    .dataframe thead th {\n",
       "        text-align: right;\n",
       "    }\n",
       "</style>\n",
       "<table border=\"1\" class=\"dataframe\">\n",
       "  <thead>\n",
       "    <tr style=\"text-align: right;\">\n",
       "      <th></th>\n",
       "      <th>patent_id</th>\n",
       "      <th>inventor_sequence</th>\n",
       "      <th>inventor_id</th>\n",
       "      <th>raw_inventor_name_first</th>\n",
       "      <th>raw_inventor_name_last</th>\n",
       "      <th>deceased_flag</th>\n",
       "      <th>rawlocation_id</th>\n",
       "      <th>raw_assignee_organization</th>\n",
       "    </tr>\n",
       "  </thead>\n",
       "  <tbody>\n",
       "    <tr>\n",
       "      <th>0</th>\n",
       "      <td>D1006496</td>\n",
       "      <td>0</td>\n",
       "      <td>fl:we_ln:jiang-128</td>\n",
       "      <td>Wenjing</td>\n",
       "      <td>Jiang</td>\n",
       "      <td>0</td>\n",
       "      <td>30zgod902k0u495w9b2sb8xk9</td>\n",
       "      <td>NaN</td>\n",
       "    </tr>\n",
       "    <tr>\n",
       "      <th>1</th>\n",
       "      <td>6584128</td>\n",
       "      <td>0</td>\n",
       "      <td>fl:ri_ln:kroeger-1</td>\n",
       "      <td>Richard</td>\n",
       "      <td>Kroeger</td>\n",
       "      <td>FALSE</td>\n",
       "      <td>o2ema6bl3kkh6iwziprbzu4m9</td>\n",
       "      <td>Scientific-Atlanta, Inc.</td>\n",
       "    </tr>\n",
       "    <tr>\n",
       "      <th>2</th>\n",
       "      <td>4789863</td>\n",
       "      <td>0</td>\n",
       "      <td>fl:th_ln:bush-1</td>\n",
       "      <td>Thomas A.</td>\n",
       "      <td>Bush</td>\n",
       "      <td>FALSE</td>\n",
       "      <td>tkz70bmoqx88n1lfz3fl657lh</td>\n",
       "      <td>NaN</td>\n",
       "    </tr>\n",
       "    <tr>\n",
       "      <th>3</th>\n",
       "      <td>D474886</td>\n",
       "      <td>0</td>\n",
       "      <td>fl:th_ln:fleming-4</td>\n",
       "      <td>Thomas W.</td>\n",
       "      <td>Fleming</td>\n",
       "      <td>FALSE</td>\n",
       "      <td>cmf9hebugybql8ufffo47uwcz</td>\n",
       "      <td>Bacou-Dalloz USA Safety, Inc.</td>\n",
       "    </tr>\n",
       "    <tr>\n",
       "      <th>4</th>\n",
       "      <td>7646155</td>\n",
       "      <td>0</td>\n",
       "      <td>fl:sa_ln:woods-2</td>\n",
       "      <td>Samuel G</td>\n",
       "      <td>Woods</td>\n",
       "      <td>FALSE</td>\n",
       "      <td>omi6wqlrblholsssk9qx0dz5b</td>\n",
       "      <td>Balck &amp; Decker Inc.</td>\n",
       "    </tr>\n",
       "  </tbody>\n",
       "</table>\n",
       "</div>"
      ],
      "text/plain": [
       "  patent_id  inventor_sequence         inventor_id raw_inventor_name_first  \\\n",
       "0  D1006496                  0  fl:we_ln:jiang-128                 Wenjing   \n",
       "1   6584128                  0  fl:ri_ln:kroeger-1                 Richard   \n",
       "2   4789863                  0     fl:th_ln:bush-1               Thomas A.   \n",
       "3   D474886                  0  fl:th_ln:fleming-4               Thomas W.   \n",
       "4   7646155                  0    fl:sa_ln:woods-2                Samuel G   \n",
       "\n",
       "  raw_inventor_name_last deceased_flag             rawlocation_id  \\\n",
       "0                  Jiang             0  30zgod902k0u495w9b2sb8xk9   \n",
       "1                Kroeger         FALSE  o2ema6bl3kkh6iwziprbzu4m9   \n",
       "2                   Bush         FALSE  tkz70bmoqx88n1lfz3fl657lh   \n",
       "3                Fleming         FALSE  cmf9hebugybql8ufffo47uwcz   \n",
       "4                  Woods         FALSE  omi6wqlrblholsssk9qx0dz5b   \n",
       "\n",
       "       raw_assignee_organization  \n",
       "0                            NaN  \n",
       "1       Scientific-Atlanta, Inc.  \n",
       "2                            NaN  \n",
       "3  Bacou-Dalloz USA Safety, Inc.  \n",
       "4            Balck & Decker Inc.  "
      ]
     },
     "execution_count": 26,
     "metadata": {},
     "output_type": "execute_result"
    }
   ],
   "source": [
    "prim_inventor.head(5)"
   ]
  },
  {
   "cell_type": "code",
   "execution_count": 27,
   "metadata": {},
   "outputs": [],
   "source": [
    "# Ensure IDs are strings\n",
    "location_g.loc[:, 'rawlocation_id']    = location_g['rawlocation_id'].astype('string')\n",
    "prim_inventor.loc[:, 'rawlocation_id'] = prim_inventor['rawlocation_id'].astype('string')\n",
    "\n",
    "# Filter location_g where raw_location_id exists in assignee_g.location_id to make merge faster since time complexity....idk if it makes that big of difference\n",
    "#filtered_location_g = location_g[location_g['rawlocation_id'].isin(prim_inventor['rawlocation_id'])]\n",
    "# ^ filtering is included in merge code"
   ]
  },
  {
   "cell_type": "code",
   "execution_count": null,
   "metadata": {},
   "outputs": [],
   "source": [
    "# ~20s\n",
    "location_assignee = pd.merge(prim_inventor, location_g, on='rawlocation_id', how='left')"
   ]
  },
  {
   "cell_type": "code",
   "execution_count": 29,
   "metadata": {},
   "outputs": [
    {
     "data": {
      "text/html": [
       "<div>\n",
       "<style scoped>\n",
       "    .dataframe tbody tr th:only-of-type {\n",
       "        vertical-align: middle;\n",
       "    }\n",
       "\n",
       "    .dataframe tbody tr th {\n",
       "        vertical-align: top;\n",
       "    }\n",
       "\n",
       "    .dataframe thead th {\n",
       "        text-align: right;\n",
       "    }\n",
       "</style>\n",
       "<table border=\"1\" class=\"dataframe\">\n",
       "  <thead>\n",
       "    <tr style=\"text-align: right;\">\n",
       "      <th></th>\n",
       "      <th>patent_id</th>\n",
       "      <th>inventor_sequence</th>\n",
       "      <th>inventor_id</th>\n",
       "      <th>raw_inventor_name_first</th>\n",
       "      <th>raw_inventor_name_last</th>\n",
       "      <th>deceased_flag</th>\n",
       "      <th>rawlocation_id</th>\n",
       "      <th>raw_assignee_organization</th>\n",
       "      <th>location_id</th>\n",
       "      <th>raw_city</th>\n",
       "      <th>raw_state</th>\n",
       "      <th>raw_country</th>\n",
       "    </tr>\n",
       "  </thead>\n",
       "  <tbody>\n",
       "    <tr>\n",
       "      <th>0</th>\n",
       "      <td>D1006496</td>\n",
       "      <td>0</td>\n",
       "      <td>fl:we_ln:jiang-128</td>\n",
       "      <td>Wenjing</td>\n",
       "      <td>Jiang</td>\n",
       "      <td>0</td>\n",
       "      <td>30zgod902k0u495w9b2sb8xk9</td>\n",
       "      <td>NaN</td>\n",
       "      <td>9d072d42-49af-11ed-9879-1234bde3cd05</td>\n",
       "      <td>Guizhou</td>\n",
       "      <td>NaN</td>\n",
       "      <td>CN</td>\n",
       "    </tr>\n",
       "    <tr>\n",
       "      <th>1</th>\n",
       "      <td>6584128</td>\n",
       "      <td>0</td>\n",
       "      <td>fl:ri_ln:kroeger-1</td>\n",
       "      <td>Richard</td>\n",
       "      <td>Kroeger</td>\n",
       "      <td>FALSE</td>\n",
       "      <td>o2ema6bl3kkh6iwziprbzu4m9</td>\n",
       "      <td>Scientific-Atlanta, Inc.</td>\n",
       "      <td>NaN</td>\n",
       "      <td>NaN</td>\n",
       "      <td>NaN</td>\n",
       "      <td>NaN</td>\n",
       "    </tr>\n",
       "    <tr>\n",
       "      <th>2</th>\n",
       "      <td>4789863</td>\n",
       "      <td>0</td>\n",
       "      <td>fl:th_ln:bush-1</td>\n",
       "      <td>Thomas A.</td>\n",
       "      <td>Bush</td>\n",
       "      <td>FALSE</td>\n",
       "      <td>tkz70bmoqx88n1lfz3fl657lh</td>\n",
       "      <td>NaN</td>\n",
       "      <td>NaN</td>\n",
       "      <td>NaN</td>\n",
       "      <td>NaN</td>\n",
       "      <td>NaN</td>\n",
       "    </tr>\n",
       "    <tr>\n",
       "      <th>3</th>\n",
       "      <td>D474886</td>\n",
       "      <td>0</td>\n",
       "      <td>fl:th_ln:fleming-4</td>\n",
       "      <td>Thomas W.</td>\n",
       "      <td>Fleming</td>\n",
       "      <td>FALSE</td>\n",
       "      <td>cmf9hebugybql8ufffo47uwcz</td>\n",
       "      <td>Bacou-Dalloz USA Safety, Inc.</td>\n",
       "      <td>1893009c-16c8-11ed-9b5f-1234bde3cd05</td>\n",
       "      <td>San Diego</td>\n",
       "      <td>CA</td>\n",
       "      <td>US</td>\n",
       "    </tr>\n",
       "  </tbody>\n",
       "</table>\n",
       "</div>"
      ],
      "text/plain": [
       "  patent_id  inventor_sequence         inventor_id raw_inventor_name_first  \\\n",
       "0  D1006496                  0  fl:we_ln:jiang-128                 Wenjing   \n",
       "1   6584128                  0  fl:ri_ln:kroeger-1                 Richard   \n",
       "2   4789863                  0     fl:th_ln:bush-1               Thomas A.   \n",
       "3   D474886                  0  fl:th_ln:fleming-4               Thomas W.   \n",
       "\n",
       "  raw_inventor_name_last deceased_flag             rawlocation_id  \\\n",
       "0                  Jiang             0  30zgod902k0u495w9b2sb8xk9   \n",
       "1                Kroeger         FALSE  o2ema6bl3kkh6iwziprbzu4m9   \n",
       "2                   Bush         FALSE  tkz70bmoqx88n1lfz3fl657lh   \n",
       "3                Fleming         FALSE  cmf9hebugybql8ufffo47uwcz   \n",
       "\n",
       "       raw_assignee_organization                           location_id  \\\n",
       "0                            NaN  9d072d42-49af-11ed-9879-1234bde3cd05   \n",
       "1       Scientific-Atlanta, Inc.                                   NaN   \n",
       "2                            NaN                                   NaN   \n",
       "3  Bacou-Dalloz USA Safety, Inc.  1893009c-16c8-11ed-9b5f-1234bde3cd05   \n",
       "\n",
       "    raw_city raw_state raw_country  \n",
       "0    Guizhou       NaN          CN  \n",
       "1        NaN       NaN         NaN  \n",
       "2        NaN       NaN         NaN  \n",
       "3  San Diego        CA          US  "
      ]
     },
     "execution_count": 29,
     "metadata": {},
     "output_type": "execute_result"
    }
   ],
   "source": [
    "location_assignee.head(4)"
   ]
  },
  {
   "cell_type": "code",
   "execution_count": 58,
   "metadata": {},
   "outputs": [
    {
     "name": "stdout",
     "output_type": "stream",
     "text": [
      "Number of missing first names: 198\n",
      "Number of missing last names: 1\n"
     ]
    }
   ],
   "source": [
    "# Counting number of missing first and last names\n",
    "no_f = sum(location_assignee['raw_inventor_name_first'].isna())\n",
    "no_l = sum(location_assignee['raw_inventor_name_last'].isna())\n",
    "\n",
    "print(f'Number of missing first names: {no_f}')\n",
    "print(f'Number of missing last names: {no_l}')"
   ]
  },
  {
   "cell_type": "code",
   "execution_count": 30,
   "metadata": {},
   "outputs": [
    {
     "name": "stdout",
     "output_type": "stream",
     "text": [
      "Rows in patents_g with no match in location_assignee: 1087\n",
      "Rows in location_assignee with no match in patents_g: 0\n"
     ]
    }
   ],
   "source": [
    "missing_in_location_assignee = patents_g[~patents_g['patent_id'].isin(location_assignee['patent_id'])]\n",
    "print(\"Rows in patents_g with no match in location_assignee:\", len(missing_in_location_assignee))\n",
    "\n",
    "missing_in_patents_g = location_assignee[~location_assignee['patent_id'].isin(patents_g['patent_id'])]\n",
    "print(\"Rows in location_assignee with no match in patents_g:\", len(missing_in_patents_g))\n"
   ]
  },
  {
   "cell_type": "code",
   "execution_count": 32,
   "metadata": {},
   "outputs": [
    {
     "name": "stdout",
     "output_type": "stream",
     "text": [
      "Number of duplicate patent_ids in patents_g: 0\n"
     ]
    }
   ],
   "source": [
    "# Checking for duplicate patent_ids (should be 0 because we're only taking primary inventors now)\n",
    "print(\"Number of duplicate patent_ids in patents_g:\", sum(patents_g.duplicated('patent_id')))"
   ]
  },
  {
   "cell_type": "code",
   "execution_count": 34,
   "metadata": {},
   "outputs": [],
   "source": [
    "patent_location_assignee = pd.merge(patents_g, location_assignee, on='patent_id', how='left')"
   ]
  },
  {
   "cell_type": "markdown",
   "metadata": {},
   "source": [
    "### Getting Values with only Valid location"
   ]
  },
  {
   "cell_type": "code",
   "execution_count": 35,
   "metadata": {},
   "outputs": [
    {
     "data": {
      "text/html": [
       "<div>\n",
       "<style scoped>\n",
       "    .dataframe tbody tr th:only-of-type {\n",
       "        vertical-align: middle;\n",
       "    }\n",
       "\n",
       "    .dataframe tbody tr th {\n",
       "        vertical-align: top;\n",
       "    }\n",
       "\n",
       "    .dataframe thead th {\n",
       "        text-align: right;\n",
       "    }\n",
       "</style>\n",
       "<table border=\"1\" class=\"dataframe\">\n",
       "  <thead>\n",
       "    <tr style=\"text-align: right;\">\n",
       "      <th></th>\n",
       "      <th>patent_id</th>\n",
       "      <th>patent_type</th>\n",
       "      <th>patent_date</th>\n",
       "      <th>patent_title</th>\n",
       "      <th>wipo_kind</th>\n",
       "      <th>num_claims</th>\n",
       "      <th>withdrawn</th>\n",
       "      <th>filename</th>\n",
       "      <th>inventor_sequence</th>\n",
       "      <th>inventor_id</th>\n",
       "      <th>raw_inventor_name_first</th>\n",
       "      <th>raw_inventor_name_last</th>\n",
       "      <th>deceased_flag</th>\n",
       "      <th>rawlocation_id</th>\n",
       "      <th>raw_assignee_organization</th>\n",
       "      <th>location_id</th>\n",
       "      <th>raw_city</th>\n",
       "      <th>raw_state</th>\n",
       "      <th>raw_country</th>\n",
       "    </tr>\n",
       "  </thead>\n",
       "  <tbody>\n",
       "    <tr>\n",
       "      <th>0</th>\n",
       "      <td>10000000</td>\n",
       "      <td>utility</td>\n",
       "      <td>2018-06-19</td>\n",
       "      <td>Coherent LADAR using intra-pixel quadrature de...</td>\n",
       "      <td>B2</td>\n",
       "      <td>20</td>\n",
       "      <td>0</td>\n",
       "      <td>ipg180619.xml</td>\n",
       "      <td>0.0</td>\n",
       "      <td>fl:jo_ln:marron-5</td>\n",
       "      <td>Joseph</td>\n",
       "      <td>Marron</td>\n",
       "      <td>FALSE</td>\n",
       "      <td>klkuujc1w3iik6xrp7c2wdvt7</td>\n",
       "      <td>Raytheon Company</td>\n",
       "      <td>198b0471-16c8-11ed-9b5f-1234bde3cd05</td>\n",
       "      <td>Manhattan Beach</td>\n",
       "      <td>CA</td>\n",
       "      <td>US</td>\n",
       "    </tr>\n",
       "    <tr>\n",
       "      <th>1</th>\n",
       "      <td>10000001</td>\n",
       "      <td>utility</td>\n",
       "      <td>2018-06-19</td>\n",
       "      <td>Injection molding machine and mold thickness c...</td>\n",
       "      <td>B2</td>\n",
       "      <td>12</td>\n",
       "      <td>0</td>\n",
       "      <td>ipg180619.xml</td>\n",
       "      <td>0.0</td>\n",
       "      <td>fl:su_ln:lee-271</td>\n",
       "      <td>Sun-Woo</td>\n",
       "      <td>Lee</td>\n",
       "      <td>FALSE</td>\n",
       "      <td>95igh4mbo217kt9dmb2x8r3il</td>\n",
       "      <td>LS MTRON LTD.</td>\n",
       "      <td>6c4ba08f-16c8-11ed-9b5f-1234bde3cd05</td>\n",
       "      <td>Gunpo-si</td>\n",
       "      <td>NaN</td>\n",
       "      <td>KR</td>\n",
       "    </tr>\n",
       "    <tr>\n",
       "      <th>2</th>\n",
       "      <td>10000002</td>\n",
       "      <td>utility</td>\n",
       "      <td>2018-06-19</td>\n",
       "      <td>Method for manufacturing polymer film and co-e...</td>\n",
       "      <td>B2</td>\n",
       "      <td>9</td>\n",
       "      <td>0</td>\n",
       "      <td>ipg180619.xml</td>\n",
       "      <td>0.0</td>\n",
       "      <td>fl:yu_ln:kim-79</td>\n",
       "      <td>Yun-Jo</td>\n",
       "      <td>Kim</td>\n",
       "      <td>FALSE</td>\n",
       "      <td>0jpghs5hm2z9y7c7t5wqcw9nk</td>\n",
       "      <td>KOLON INDUSTRIES, INC.</td>\n",
       "      <td>755a6338-16c8-11ed-9b5f-1234bde3cd05</td>\n",
       "      <td>Yongin-si</td>\n",
       "      <td>NaN</td>\n",
       "      <td>KR</td>\n",
       "    </tr>\n",
       "    <tr>\n",
       "      <th>3</th>\n",
       "      <td>10000003</td>\n",
       "      <td>utility</td>\n",
       "      <td>2018-06-19</td>\n",
       "      <td>Method for producing a container from a thermo...</td>\n",
       "      <td>B2</td>\n",
       "      <td>18</td>\n",
       "      <td>0</td>\n",
       "      <td>ipg180619.xml</td>\n",
       "      <td>0.0</td>\n",
       "      <td>fl:gu_ln:bergmann-3</td>\n",
       "      <td>Guido</td>\n",
       "      <td>Bergmann</td>\n",
       "      <td>FALSE</td>\n",
       "      <td>c9av9x4gxgkr3bvhc2dtrhsvz</td>\n",
       "      <td>KAUTEX TEXTRON GMBH &amp; CO. KG</td>\n",
       "      <td>6c737da8-16c8-11ed-9b5f-1234bde3cd05</td>\n",
       "      <td>St. Augustin</td>\n",
       "      <td>NaN</td>\n",
       "      <td>DE</td>\n",
       "    </tr>\n",
       "    <tr>\n",
       "      <th>4</th>\n",
       "      <td>10000004</td>\n",
       "      <td>utility</td>\n",
       "      <td>2018-06-19</td>\n",
       "      <td>Process of obtaining a double-oriented film, c...</td>\n",
       "      <td>B2</td>\n",
       "      <td>6</td>\n",
       "      <td>0</td>\n",
       "      <td>ipg180619.xml</td>\n",
       "      <td>0.0</td>\n",
       "      <td>fl:mi_ln:zubiriaelizondo-1</td>\n",
       "      <td>Miguel Jorge</td>\n",
       "      <td>Zubiria Elizondo</td>\n",
       "      <td>FALSE</td>\n",
       "      <td>v8ucm2trnfns3id8krhmw8bty</td>\n",
       "      <td>ZUBEX INDUSTRIAL SA DE CV</td>\n",
       "      <td>74ce52e1-16c8-11ed-9b5f-1234bde3cd05</td>\n",
       "      <td>Monterrey</td>\n",
       "      <td>NaN</td>\n",
       "      <td>MX</td>\n",
       "    </tr>\n",
       "  </tbody>\n",
       "</table>\n",
       "</div>"
      ],
      "text/plain": [
       "  patent_id patent_type patent_date  \\\n",
       "0  10000000     utility  2018-06-19   \n",
       "1  10000001     utility  2018-06-19   \n",
       "2  10000002     utility  2018-06-19   \n",
       "3  10000003     utility  2018-06-19   \n",
       "4  10000004     utility  2018-06-19   \n",
       "\n",
       "                                        patent_title wipo_kind  num_claims  \\\n",
       "0  Coherent LADAR using intra-pixel quadrature de...        B2          20   \n",
       "1  Injection molding machine and mold thickness c...        B2          12   \n",
       "2  Method for manufacturing polymer film and co-e...        B2           9   \n",
       "3  Method for producing a container from a thermo...        B2          18   \n",
       "4  Process of obtaining a double-oriented film, c...        B2           6   \n",
       "\n",
       "   withdrawn       filename  inventor_sequence                 inventor_id  \\\n",
       "0          0  ipg180619.xml                0.0           fl:jo_ln:marron-5   \n",
       "1          0  ipg180619.xml                0.0            fl:su_ln:lee-271   \n",
       "2          0  ipg180619.xml                0.0             fl:yu_ln:kim-79   \n",
       "3          0  ipg180619.xml                0.0         fl:gu_ln:bergmann-3   \n",
       "4          0  ipg180619.xml                0.0  fl:mi_ln:zubiriaelizondo-1   \n",
       "\n",
       "  raw_inventor_name_first raw_inventor_name_last deceased_flag  \\\n",
       "0                  Joseph                 Marron         FALSE   \n",
       "1                 Sun-Woo                    Lee         FALSE   \n",
       "2                  Yun-Jo                    Kim         FALSE   \n",
       "3                   Guido               Bergmann         FALSE   \n",
       "4            Miguel Jorge       Zubiria Elizondo         FALSE   \n",
       "\n",
       "              rawlocation_id     raw_assignee_organization  \\\n",
       "0  klkuujc1w3iik6xrp7c2wdvt7              Raytheon Company   \n",
       "1  95igh4mbo217kt9dmb2x8r3il                 LS MTRON LTD.   \n",
       "2  0jpghs5hm2z9y7c7t5wqcw9nk        KOLON INDUSTRIES, INC.   \n",
       "3  c9av9x4gxgkr3bvhc2dtrhsvz  KAUTEX TEXTRON GMBH & CO. KG   \n",
       "4  v8ucm2trnfns3id8krhmw8bty     ZUBEX INDUSTRIAL SA DE CV   \n",
       "\n",
       "                            location_id         raw_city raw_state raw_country  \n",
       "0  198b0471-16c8-11ed-9b5f-1234bde3cd05  Manhattan Beach        CA          US  \n",
       "1  6c4ba08f-16c8-11ed-9b5f-1234bde3cd05         Gunpo-si       NaN          KR  \n",
       "2  755a6338-16c8-11ed-9b5f-1234bde3cd05        Yongin-si       NaN          KR  \n",
       "3  6c737da8-16c8-11ed-9b5f-1234bde3cd05     St. Augustin       NaN          DE  \n",
       "4  74ce52e1-16c8-11ed-9b5f-1234bde3cd05        Monterrey       NaN          MX  "
      ]
     },
     "execution_count": 35,
     "metadata": {},
     "output_type": "execute_result"
    }
   ],
   "source": [
    "patent_location_assignee.head(5)"
   ]
  },
  {
   "cell_type": "code",
   "execution_count": 36,
   "metadata": {},
   "outputs": [],
   "source": [
    "valid_locations = patent_location_assignee[patent_location_assignee['rawlocation_id'].notnull()]\n"
   ]
  },
  {
   "cell_type": "code",
   "execution_count": 39,
   "metadata": {},
   "outputs": [
    {
     "name": "stdout",
     "output_type": "stream",
     "text": [
      "So we have 8978910 / 8980130 = 99.99% valid locations.\n",
      "Dropping 1220 rows with missing locations.\n"
     ]
    }
   ],
   "source": [
    "print(f\"So we have {len(valid_locations)} / {len(patent_location_assignee)} = {len(valid_locations) / len(patent_location_assignee) * 100:.2f}% valid locations.\")\n",
    "print(f\"Dropping {len(patent_location_assignee) - len(valid_locations)} rows with missing locations...\")\n",
    "valid_locations = valid_locations.dropna(subset=['rawlocation_id'])"
   ]
  },
  {
   "cell_type": "code",
   "execution_count": 40,
   "metadata": {},
   "outputs": [
    {
     "data": {
      "text/plain": [
       "8978910"
      ]
     },
     "execution_count": 40,
     "metadata": {},
     "output_type": "execute_result"
    }
   ],
   "source": [
    "len(valid_locations['patent_id'].unique())"
   ]
  },
  {
   "cell_type": "markdown",
   "metadata": {},
   "source": [
    "### WIPO Type and Sector\n",
    "\n",
    "This is where some work still needs to be done. The `utility` tags that come back from the below code are too general and apply to >99% of the patents in the file. We need to, per-patent, extract more detailed sector/industry categories from the wipo table. This is my next step."
   ]
  },
  {
   "cell_type": "code",
   "execution_count": 41,
   "metadata": {},
   "outputs": [],
   "source": [
    "prim_type = wipo_g[wipo_g['wipo_field_sequence'] == 0]"
   ]
  },
  {
   "cell_type": "code",
   "execution_count": 49,
   "metadata": {},
   "outputs": [],
   "source": [
    "TechType_df = pd.merge(valid_locations, prim_type, on='patent_id', how='left')\n"
   ]
  },
  {
   "cell_type": "code",
   "execution_count": 50,
   "metadata": {},
   "outputs": [
    {
     "data": {
      "text/plain": [
       "8978910"
      ]
     },
     "execution_count": 50,
     "metadata": {},
     "output_type": "execute_result"
    }
   ],
   "source": [
    "len(TechType_df)"
   ]
  },
  {
   "cell_type": "code",
   "execution_count": 51,
   "metadata": {},
   "outputs": [
    {
     "data": {
      "text/html": [
       "<div>\n",
       "<style scoped>\n",
       "    .dataframe tbody tr th:only-of-type {\n",
       "        vertical-align: middle;\n",
       "    }\n",
       "\n",
       "    .dataframe tbody tr th {\n",
       "        vertical-align: top;\n",
       "    }\n",
       "\n",
       "    .dataframe thead th {\n",
       "        text-align: right;\n",
       "    }\n",
       "</style>\n",
       "<table border=\"1\" class=\"dataframe\">\n",
       "  <thead>\n",
       "    <tr style=\"text-align: right;\">\n",
       "      <th></th>\n",
       "      <th>patent_id</th>\n",
       "      <th>patent_type</th>\n",
       "      <th>patent_date</th>\n",
       "      <th>patent_title</th>\n",
       "      <th>wipo_kind</th>\n",
       "      <th>num_claims</th>\n",
       "      <th>withdrawn</th>\n",
       "      <th>filename</th>\n",
       "      <th>inventor_sequence</th>\n",
       "      <th>inventor_id</th>\n",
       "      <th>...</th>\n",
       "      <th>rawlocation_id</th>\n",
       "      <th>raw_assignee_organization</th>\n",
       "      <th>location_id</th>\n",
       "      <th>raw_city</th>\n",
       "      <th>raw_state</th>\n",
       "      <th>raw_country</th>\n",
       "      <th>wipo_field_sequence</th>\n",
       "      <th>wipo_field_id</th>\n",
       "      <th>wipo_sector_title</th>\n",
       "      <th>wipo_field_title</th>\n",
       "    </tr>\n",
       "  </thead>\n",
       "  <tbody>\n",
       "    <tr>\n",
       "      <th>0</th>\n",
       "      <td>10000000</td>\n",
       "      <td>utility</td>\n",
       "      <td>2018-06-19</td>\n",
       "      <td>Coherent LADAR using intra-pixel quadrature de...</td>\n",
       "      <td>B2</td>\n",
       "      <td>20</td>\n",
       "      <td>0</td>\n",
       "      <td>ipg180619.xml</td>\n",
       "      <td>0.0</td>\n",
       "      <td>fl:jo_ln:marron-5</td>\n",
       "      <td>...</td>\n",
       "      <td>klkuujc1w3iik6xrp7c2wdvt7</td>\n",
       "      <td>Raytheon Company</td>\n",
       "      <td>198b0471-16c8-11ed-9b5f-1234bde3cd05</td>\n",
       "      <td>Manhattan Beach</td>\n",
       "      <td>CA</td>\n",
       "      <td>US</td>\n",
       "      <td>0.0</td>\n",
       "      <td>10.0</td>\n",
       "      <td>Instruments</td>\n",
       "      <td>Measurement</td>\n",
       "    </tr>\n",
       "    <tr>\n",
       "      <th>1</th>\n",
       "      <td>10000001</td>\n",
       "      <td>utility</td>\n",
       "      <td>2018-06-19</td>\n",
       "      <td>Injection molding machine and mold thickness c...</td>\n",
       "      <td>B2</td>\n",
       "      <td>12</td>\n",
       "      <td>0</td>\n",
       "      <td>ipg180619.xml</td>\n",
       "      <td>0.0</td>\n",
       "      <td>fl:su_ln:lee-271</td>\n",
       "      <td>...</td>\n",
       "      <td>95igh4mbo217kt9dmb2x8r3il</td>\n",
       "      <td>LS MTRON LTD.</td>\n",
       "      <td>6c4ba08f-16c8-11ed-9b5f-1234bde3cd05</td>\n",
       "      <td>Gunpo-si</td>\n",
       "      <td>NaN</td>\n",
       "      <td>KR</td>\n",
       "      <td>0.0</td>\n",
       "      <td>29.0</td>\n",
       "      <td>Mechanical engineering</td>\n",
       "      <td>Other special machines</td>\n",
       "    </tr>\n",
       "    <tr>\n",
       "      <th>2</th>\n",
       "      <td>10000002</td>\n",
       "      <td>utility</td>\n",
       "      <td>2018-06-19</td>\n",
       "      <td>Method for manufacturing polymer film and co-e...</td>\n",
       "      <td>B2</td>\n",
       "      <td>9</td>\n",
       "      <td>0</td>\n",
       "      <td>ipg180619.xml</td>\n",
       "      <td>0.0</td>\n",
       "      <td>fl:yu_ln:kim-79</td>\n",
       "      <td>...</td>\n",
       "      <td>0jpghs5hm2z9y7c7t5wqcw9nk</td>\n",
       "      <td>KOLON INDUSTRIES, INC.</td>\n",
       "      <td>755a6338-16c8-11ed-9b5f-1234bde3cd05</td>\n",
       "      <td>Yongin-si</td>\n",
       "      <td>NaN</td>\n",
       "      <td>KR</td>\n",
       "      <td>0.0</td>\n",
       "      <td>21.0</td>\n",
       "      <td>Chemistry</td>\n",
       "      <td>Surface technology, coating</td>\n",
       "    </tr>\n",
       "    <tr>\n",
       "      <th>3</th>\n",
       "      <td>10000003</td>\n",
       "      <td>utility</td>\n",
       "      <td>2018-06-19</td>\n",
       "      <td>Method for producing a container from a thermo...</td>\n",
       "      <td>B2</td>\n",
       "      <td>18</td>\n",
       "      <td>0</td>\n",
       "      <td>ipg180619.xml</td>\n",
       "      <td>0.0</td>\n",
       "      <td>fl:gu_ln:bergmann-3</td>\n",
       "      <td>...</td>\n",
       "      <td>c9av9x4gxgkr3bvhc2dtrhsvz</td>\n",
       "      <td>KAUTEX TEXTRON GMBH &amp; CO. KG</td>\n",
       "      <td>6c737da8-16c8-11ed-9b5f-1234bde3cd05</td>\n",
       "      <td>St. Augustin</td>\n",
       "      <td>NaN</td>\n",
       "      <td>DE</td>\n",
       "      <td>0.0</td>\n",
       "      <td>29.0</td>\n",
       "      <td>Mechanical engineering</td>\n",
       "      <td>Other special machines</td>\n",
       "    </tr>\n",
       "  </tbody>\n",
       "</table>\n",
       "<p>4 rows × 23 columns</p>\n",
       "</div>"
      ],
      "text/plain": [
       "  patent_id patent_type patent_date  \\\n",
       "0  10000000     utility  2018-06-19   \n",
       "1  10000001     utility  2018-06-19   \n",
       "2  10000002     utility  2018-06-19   \n",
       "3  10000003     utility  2018-06-19   \n",
       "\n",
       "                                        patent_title wipo_kind  num_claims  \\\n",
       "0  Coherent LADAR using intra-pixel quadrature de...        B2          20   \n",
       "1  Injection molding machine and mold thickness c...        B2          12   \n",
       "2  Method for manufacturing polymer film and co-e...        B2           9   \n",
       "3  Method for producing a container from a thermo...        B2          18   \n",
       "\n",
       "   withdrawn       filename  inventor_sequence          inventor_id  ...  \\\n",
       "0          0  ipg180619.xml                0.0    fl:jo_ln:marron-5  ...   \n",
       "1          0  ipg180619.xml                0.0     fl:su_ln:lee-271  ...   \n",
       "2          0  ipg180619.xml                0.0      fl:yu_ln:kim-79  ...   \n",
       "3          0  ipg180619.xml                0.0  fl:gu_ln:bergmann-3  ...   \n",
       "\n",
       "              rawlocation_id     raw_assignee_organization  \\\n",
       "0  klkuujc1w3iik6xrp7c2wdvt7              Raytheon Company   \n",
       "1  95igh4mbo217kt9dmb2x8r3il                 LS MTRON LTD.   \n",
       "2  0jpghs5hm2z9y7c7t5wqcw9nk        KOLON INDUSTRIES, INC.   \n",
       "3  c9av9x4gxgkr3bvhc2dtrhsvz  KAUTEX TEXTRON GMBH & CO. KG   \n",
       "\n",
       "                            location_id         raw_city raw_state  \\\n",
       "0  198b0471-16c8-11ed-9b5f-1234bde3cd05  Manhattan Beach        CA   \n",
       "1  6c4ba08f-16c8-11ed-9b5f-1234bde3cd05         Gunpo-si       NaN   \n",
       "2  755a6338-16c8-11ed-9b5f-1234bde3cd05        Yongin-si       NaN   \n",
       "3  6c737da8-16c8-11ed-9b5f-1234bde3cd05     St. Augustin       NaN   \n",
       "\n",
       "  raw_country wipo_field_sequence wipo_field_id       wipo_sector_title  \\\n",
       "0          US                 0.0          10.0             Instruments   \n",
       "1          KR                 0.0          29.0  Mechanical engineering   \n",
       "2          KR                 0.0          21.0               Chemistry   \n",
       "3          DE                 0.0          29.0  Mechanical engineering   \n",
       "\n",
       "              wipo_field_title  \n",
       "0                  Measurement  \n",
       "1       Other special machines  \n",
       "2  Surface technology, coating  \n",
       "3       Other special machines  \n",
       "\n",
       "[4 rows x 23 columns]"
      ]
     },
     "execution_count": 51,
     "metadata": {},
     "output_type": "execute_result"
    }
   ],
   "source": [
    "TechType_df.head(4)"
   ]
  },
  {
   "cell_type": "code",
   "execution_count": 52,
   "metadata": {},
   "outputs": [
    {
     "name": "stdout",
     "output_type": "stream",
     "text": [
      "Number of rows with missing country but non-missing state or city: 1829\n",
      "This is 91.82% of the rows with missing countries, and 0.02% of the total rows.\n",
      "This is too few to be useful, so we're dropping these.\n"
     ]
    }
   ],
   "source": [
    "sum(TechType_df['raw_country'].isna())\n",
    "\n",
    "# Explore if there are any state or city information for the missing countries\n",
    "missing_countries = TechType_df[TechType_df['raw_country'].isna()]\n",
    "non_na = missing_countries[missing_countries['raw_state'].notna() | missing_countries['raw_city'].notna()]\n",
    "non_na.head(5)\n",
    "print(f\"Number of rows with missing country but non-missing state or city: {len(non_na)}\")\n",
    "if len(missing_countries) != 0:\n",
    "    print(f\"This is {len(non_na) / len(missing_countries) * 100:.2f}% of the rows with missing countries, and {len(non_na) / len(TechType_df) * 100:.2f}% of the total rows.\")\n",
    "print(f\"This is too few to be useful, so we're dropping these.\")\n",
    "\n",
    "TechType_df = TechType_df.dropna(subset=['raw_country'])"
   ]
  },
  {
   "cell_type": "code",
   "execution_count": 53,
   "metadata": {},
   "outputs": [
    {
     "data": {
      "text/plain": [
       "Index(['patent_id', 'patent_type', 'patent_date', 'patent_title', 'wipo_kind',\n",
       "       'num_claims', 'withdrawn', 'filename', 'inventor_sequence',\n",
       "       'inventor_id', 'raw_inventor_name_first', 'raw_inventor_name_last',\n",
       "       'deceased_flag', 'rawlocation_id', 'raw_assignee_organization',\n",
       "       'location_id', 'raw_city', 'raw_state', 'raw_country',\n",
       "       'wipo_field_sequence', 'wipo_field_id', 'wipo_sector_title',\n",
       "       'wipo_field_title'],\n",
       "      dtype='object')"
      ]
     },
     "execution_count": 53,
     "metadata": {},
     "output_type": "execute_result"
    }
   ],
   "source": [
    "TechType_df.columns"
   ]
  },
  {
   "cell_type": "code",
   "execution_count": 54,
   "metadata": {},
   "outputs": [],
   "source": [
    "### Dropping Unecessary Columns\n",
    "df_patent_ID = TechType_df.drop(['patent_type', 'inventor_sequence', 'deceased_flag', 'wipo_kind','rawlocation_id','location_id','wipo_field_sequence'], axis = 1)"
   ]
  },
  {
   "cell_type": "code",
   "execution_count": 55,
   "metadata": {},
   "outputs": [
    {
     "data": {
      "text/html": [
       "<div>\n",
       "<style scoped>\n",
       "    .dataframe tbody tr th:only-of-type {\n",
       "        vertical-align: middle;\n",
       "    }\n",
       "\n",
       "    .dataframe tbody tr th {\n",
       "        vertical-align: top;\n",
       "    }\n",
       "\n",
       "    .dataframe thead th {\n",
       "        text-align: right;\n",
       "    }\n",
       "</style>\n",
       "<table border=\"1\" class=\"dataframe\">\n",
       "  <thead>\n",
       "    <tr style=\"text-align: right;\">\n",
       "      <th></th>\n",
       "      <th>patent_id</th>\n",
       "      <th>patent_date</th>\n",
       "      <th>patent_title</th>\n",
       "      <th>num_claims</th>\n",
       "      <th>withdrawn</th>\n",
       "      <th>filename</th>\n",
       "      <th>inventor_id</th>\n",
       "      <th>raw_inventor_name_first</th>\n",
       "      <th>raw_inventor_name_last</th>\n",
       "      <th>raw_assignee_organization</th>\n",
       "      <th>raw_city</th>\n",
       "      <th>raw_state</th>\n",
       "      <th>raw_country</th>\n",
       "      <th>wipo_field_id</th>\n",
       "      <th>wipo_sector_title</th>\n",
       "      <th>wipo_field_title</th>\n",
       "    </tr>\n",
       "  </thead>\n",
       "  <tbody>\n",
       "    <tr>\n",
       "      <th>0</th>\n",
       "      <td>10000000</td>\n",
       "      <td>2018-06-19</td>\n",
       "      <td>Coherent LADAR using intra-pixel quadrature de...</td>\n",
       "      <td>20</td>\n",
       "      <td>0</td>\n",
       "      <td>ipg180619.xml</td>\n",
       "      <td>fl:jo_ln:marron-5</td>\n",
       "      <td>Joseph</td>\n",
       "      <td>Marron</td>\n",
       "      <td>Raytheon Company</td>\n",
       "      <td>Manhattan Beach</td>\n",
       "      <td>CA</td>\n",
       "      <td>US</td>\n",
       "      <td>10.0</td>\n",
       "      <td>Instruments</td>\n",
       "      <td>Measurement</td>\n",
       "    </tr>\n",
       "    <tr>\n",
       "      <th>1</th>\n",
       "      <td>10000001</td>\n",
       "      <td>2018-06-19</td>\n",
       "      <td>Injection molding machine and mold thickness c...</td>\n",
       "      <td>12</td>\n",
       "      <td>0</td>\n",
       "      <td>ipg180619.xml</td>\n",
       "      <td>fl:su_ln:lee-271</td>\n",
       "      <td>Sun-Woo</td>\n",
       "      <td>Lee</td>\n",
       "      <td>LS MTRON LTD.</td>\n",
       "      <td>Gunpo-si</td>\n",
       "      <td>NaN</td>\n",
       "      <td>KR</td>\n",
       "      <td>29.0</td>\n",
       "      <td>Mechanical engineering</td>\n",
       "      <td>Other special machines</td>\n",
       "    </tr>\n",
       "    <tr>\n",
       "      <th>2</th>\n",
       "      <td>10000002</td>\n",
       "      <td>2018-06-19</td>\n",
       "      <td>Method for manufacturing polymer film and co-e...</td>\n",
       "      <td>9</td>\n",
       "      <td>0</td>\n",
       "      <td>ipg180619.xml</td>\n",
       "      <td>fl:yu_ln:kim-79</td>\n",
       "      <td>Yun-Jo</td>\n",
       "      <td>Kim</td>\n",
       "      <td>KOLON INDUSTRIES, INC.</td>\n",
       "      <td>Yongin-si</td>\n",
       "      <td>NaN</td>\n",
       "      <td>KR</td>\n",
       "      <td>21.0</td>\n",
       "      <td>Chemistry</td>\n",
       "      <td>Surface technology, coating</td>\n",
       "    </tr>\n",
       "    <tr>\n",
       "      <th>3</th>\n",
       "      <td>10000003</td>\n",
       "      <td>2018-06-19</td>\n",
       "      <td>Method for producing a container from a thermo...</td>\n",
       "      <td>18</td>\n",
       "      <td>0</td>\n",
       "      <td>ipg180619.xml</td>\n",
       "      <td>fl:gu_ln:bergmann-3</td>\n",
       "      <td>Guido</td>\n",
       "      <td>Bergmann</td>\n",
       "      <td>KAUTEX TEXTRON GMBH &amp; CO. KG</td>\n",
       "      <td>St. Augustin</td>\n",
       "      <td>NaN</td>\n",
       "      <td>DE</td>\n",
       "      <td>29.0</td>\n",
       "      <td>Mechanical engineering</td>\n",
       "      <td>Other special machines</td>\n",
       "    </tr>\n",
       "  </tbody>\n",
       "</table>\n",
       "</div>"
      ],
      "text/plain": [
       "  patent_id patent_date                                       patent_title  \\\n",
       "0  10000000  2018-06-19  Coherent LADAR using intra-pixel quadrature de...   \n",
       "1  10000001  2018-06-19  Injection molding machine and mold thickness c...   \n",
       "2  10000002  2018-06-19  Method for manufacturing polymer film and co-e...   \n",
       "3  10000003  2018-06-19  Method for producing a container from a thermo...   \n",
       "\n",
       "   num_claims  withdrawn       filename          inventor_id  \\\n",
       "0          20          0  ipg180619.xml    fl:jo_ln:marron-5   \n",
       "1          12          0  ipg180619.xml     fl:su_ln:lee-271   \n",
       "2           9          0  ipg180619.xml      fl:yu_ln:kim-79   \n",
       "3          18          0  ipg180619.xml  fl:gu_ln:bergmann-3   \n",
       "\n",
       "  raw_inventor_name_first raw_inventor_name_last  \\\n",
       "0                  Joseph                 Marron   \n",
       "1                 Sun-Woo                    Lee   \n",
       "2                  Yun-Jo                    Kim   \n",
       "3                   Guido               Bergmann   \n",
       "\n",
       "      raw_assignee_organization         raw_city raw_state raw_country  \\\n",
       "0              Raytheon Company  Manhattan Beach        CA          US   \n",
       "1                 LS MTRON LTD.         Gunpo-si       NaN          KR   \n",
       "2        KOLON INDUSTRIES, INC.        Yongin-si       NaN          KR   \n",
       "3  KAUTEX TEXTRON GMBH & CO. KG     St. Augustin       NaN          DE   \n",
       "\n",
       "   wipo_field_id       wipo_sector_title             wipo_field_title  \n",
       "0           10.0             Instruments                  Measurement  \n",
       "1           29.0  Mechanical engineering       Other special machines  \n",
       "2           21.0               Chemistry  Surface technology, coating  \n",
       "3           29.0  Mechanical engineering       Other special machines  "
      ]
     },
     "execution_count": 55,
     "metadata": {},
     "output_type": "execute_result"
    }
   ],
   "source": [
    "df_patent_ID.head(4)"
   ]
  },
  {
   "cell_type": "code",
   "execution_count": null,
   "metadata": {},
   "outputs": [],
   "source": [
    "dest_path = os.path.join(os.getcwd(), 'data', 'processed_patents.tsv')\n",
    "df_patent_ID.to_csv(dest_path, sep='\\t', index=False)"
   ]
  }
 ],
 "metadata": {
  "kernelspec": {
   "display_name": "cse6242",
   "language": "python",
   "name": "python3"
  },
  "language_info": {
   "codemirror_mode": {
    "name": "ipython",
    "version": 3
   },
   "file_extension": ".py",
   "mimetype": "text/x-python",
   "name": "python",
   "nbconvert_exporter": "python",
   "pygments_lexer": "ipython3",
   "version": "3.10.14"
  }
 },
 "nbformat": 4,
 "nbformat_minor": 2
}
