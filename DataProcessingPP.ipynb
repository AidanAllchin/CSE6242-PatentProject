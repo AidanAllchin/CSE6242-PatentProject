{
 "cells": [
  {
   "cell_type": "markdown",
   "metadata": {},
   "source": [
    "# Patent Data"
   ]
  },
  {
   "cell_type": "code",
   "execution_count": 1,
   "metadata": {},
   "outputs": [],
   "source": [
    "import pandas as pd"
   ]
  },
  {
   "cell_type": "code",
   "execution_count": 2,
   "metadata": {},
   "outputs": [
    {
     "name": "stderr",
     "output_type": "stream",
     "text": [
      "/var/folders/n4/v33nl1c17tn8grw2pny9w0mc0000gn/T/ipykernel_80143/1487417970.py:2: DtypeWarning: Columns (0) have mixed types. Specify dtype option on import or set low_memory=False.\n",
      "  patents_g = pd.read_csv('/Users/thomascabe/Downloads/DVA_Proj/g_patent.tsv', sep='\\t')\n"
     ]
    }
   ],
   "source": [
    "#patent information\n",
    "patents_g = pd.read_csv('/Users/thomascabe/Downloads/DVA_Proj/g_patent.tsv', sep='\\t')\n",
    "\n",
    "#applicant information (include multiple per patent doing seq = 0 should be primary)\n",
    "applicant_g = pd.read_csv('/Users/thomascabe/Downloads/DVA_Proj/g_inventor_not_disambiguated.tsv', sep='\\t') \n",
    "\n",
    "# raw location not disambiguated (e.g, no coordinates)\n",
    "location_g = pd.read_csv('/Users/thomascabe/Downloads/DVA_Proj/g_location_not_disambiguated.tsv', sep='\\t')\n",
    "\n",
    "#get organization\n",
    "assignee_g = pd.read_csv('/Users/thomascabe/Downloads/DVA_Proj/g_assignee_not_disambiguated.tsv', sep='\\t')\n",
    "\n",
    "#the sector and type of patent\n",
    "wipo_g = pd.read_csv('/Users/thomascabe/Downloads/DVA_Proj/g_wipo_technology.tsv', sep='\\t')"
   ]
  },
  {
   "cell_type": "markdown",
   "metadata": {},
   "source": [
    "## Data Table Visualization "
   ]
  },
  {
   "cell_type": "code",
   "execution_count": 3,
   "metadata": {},
   "outputs": [],
   "source": [
    "## primary inventor...\n",
    "prim_inventor = applicant_g[applicant_g['inventor_sequence'] == 0]"
   ]
  },
  {
   "cell_type": "code",
   "execution_count": 6,
   "metadata": {},
   "outputs": [
    {
     "data": {
      "text/html": [
       "<div>\n",
       "<style scoped>\n",
       "    .dataframe tbody tr th:only-of-type {\n",
       "        vertical-align: middle;\n",
       "    }\n",
       "\n",
       "    .dataframe tbody tr th {\n",
       "        vertical-align: top;\n",
       "    }\n",
       "\n",
       "    .dataframe thead th {\n",
       "        text-align: right;\n",
       "    }\n",
       "</style>\n",
       "<table border=\"1\" class=\"dataframe\">\n",
       "  <thead>\n",
       "    <tr style=\"text-align: right;\">\n",
       "      <th></th>\n",
       "      <th>patent_id</th>\n",
       "      <th>inventor_sequence</th>\n",
       "      <th>inventor_id</th>\n",
       "      <th>raw_inventor_name_first</th>\n",
       "      <th>raw_inventor_name_last</th>\n",
       "      <th>deceased_flag</th>\n",
       "      <th>rawlocation_id</th>\n",
       "    </tr>\n",
       "  </thead>\n",
       "  <tbody>\n",
       "    <tr>\n",
       "      <th>0</th>\n",
       "      <td>D1006496</td>\n",
       "      <td>0</td>\n",
       "      <td>fl:we_ln:jiang-145</td>\n",
       "      <td>Wenjing</td>\n",
       "      <td>Jiang</td>\n",
       "      <td>0</td>\n",
       "      <td>30zgod902k0u495w9b2sb8xk9</td>\n",
       "    </tr>\n",
       "    <tr>\n",
       "      <th>1</th>\n",
       "      <td>6584128</td>\n",
       "      <td>0</td>\n",
       "      <td>fl:ri_ln:kroeger-1</td>\n",
       "      <td>Richard</td>\n",
       "      <td>Kroeger</td>\n",
       "      <td>FALSE</td>\n",
       "      <td>o2ema6bl3kkh6iwziprbzu4m9</td>\n",
       "    </tr>\n",
       "    <tr>\n",
       "      <th>2</th>\n",
       "      <td>4789863</td>\n",
       "      <td>0</td>\n",
       "      <td>fl:th_ln:bush-1</td>\n",
       "      <td>Thomas A.</td>\n",
       "      <td>Bush</td>\n",
       "      <td>FALSE</td>\n",
       "      <td>tkz70bmoqx88n1lfz3fl657lh</td>\n",
       "    </tr>\n",
       "    <tr>\n",
       "      <th>5</th>\n",
       "      <td>D474886</td>\n",
       "      <td>0</td>\n",
       "      <td>fl:th_ln:fleming-4</td>\n",
       "      <td>Thomas W.</td>\n",
       "      <td>Fleming</td>\n",
       "      <td>FALSE</td>\n",
       "      <td>cmf9hebugybql8ufffo47uwcz</td>\n",
       "    </tr>\n",
       "    <tr>\n",
       "      <th>7</th>\n",
       "      <td>7646155</td>\n",
       "      <td>0</td>\n",
       "      <td>fl:sa_ln:woods-2</td>\n",
       "      <td>Samuel G</td>\n",
       "      <td>Woods</td>\n",
       "      <td>FALSE</td>\n",
       "      <td>omi6wqlrblholsssk9qx0dz5b</td>\n",
       "    </tr>\n",
       "  </tbody>\n",
       "</table>\n",
       "</div>"
      ],
      "text/plain": [
       "  patent_id  inventor_sequence         inventor_id raw_inventor_name_first  \\\n",
       "0  D1006496                  0  fl:we_ln:jiang-145                 Wenjing   \n",
       "1   6584128                  0  fl:ri_ln:kroeger-1                 Richard   \n",
       "2   4789863                  0     fl:th_ln:bush-1               Thomas A.   \n",
       "5   D474886                  0  fl:th_ln:fleming-4               Thomas W.   \n",
       "7   7646155                  0    fl:sa_ln:woods-2                Samuel G   \n",
       "\n",
       "  raw_inventor_name_last deceased_flag             rawlocation_id  \n",
       "0                  Jiang             0  30zgod902k0u495w9b2sb8xk9  \n",
       "1                Kroeger         FALSE  o2ema6bl3kkh6iwziprbzu4m9  \n",
       "2                   Bush         FALSE  tkz70bmoqx88n1lfz3fl657lh  \n",
       "5                Fleming         FALSE  cmf9hebugybql8ufffo47uwcz  \n",
       "7                  Woods         FALSE  omi6wqlrblholsssk9qx0dz5b  "
      ]
     },
     "execution_count": 6,
     "metadata": {},
     "output_type": "execute_result"
    }
   ],
   "source": [
    "prim_inventor.head(5)"
   ]
  },
  {
   "cell_type": "code",
   "execution_count": 7,
   "metadata": {},
   "outputs": [
    {
     "data": {
      "text/html": [
       "<div>\n",
       "<style scoped>\n",
       "    .dataframe tbody tr th:only-of-type {\n",
       "        vertical-align: middle;\n",
       "    }\n",
       "\n",
       "    .dataframe tbody tr th {\n",
       "        vertical-align: top;\n",
       "    }\n",
       "\n",
       "    .dataframe thead th {\n",
       "        text-align: right;\n",
       "    }\n",
       "</style>\n",
       "<table border=\"1\" class=\"dataframe\">\n",
       "  <thead>\n",
       "    <tr style=\"text-align: right;\">\n",
       "      <th></th>\n",
       "      <th>patent_id</th>\n",
       "      <th>inventor_sequence</th>\n",
       "      <th>inventor_id</th>\n",
       "      <th>raw_inventor_name_first</th>\n",
       "      <th>raw_inventor_name_last</th>\n",
       "      <th>deceased_flag</th>\n",
       "      <th>rawlocation_id</th>\n",
       "    </tr>\n",
       "  </thead>\n",
       "  <tbody>\n",
       "    <tr>\n",
       "      <th>0</th>\n",
       "      <td>D1006496</td>\n",
       "      <td>0</td>\n",
       "      <td>fl:we_ln:jiang-145</td>\n",
       "      <td>Wenjing</td>\n",
       "      <td>Jiang</td>\n",
       "      <td>0</td>\n",
       "      <td>30zgod902k0u495w9b2sb8xk9</td>\n",
       "    </tr>\n",
       "    <tr>\n",
       "      <th>1</th>\n",
       "      <td>6584128</td>\n",
       "      <td>0</td>\n",
       "      <td>fl:ri_ln:kroeger-1</td>\n",
       "      <td>Richard</td>\n",
       "      <td>Kroeger</td>\n",
       "      <td>FALSE</td>\n",
       "      <td>o2ema6bl3kkh6iwziprbzu4m9</td>\n",
       "    </tr>\n",
       "    <tr>\n",
       "      <th>2</th>\n",
       "      <td>4789863</td>\n",
       "      <td>0</td>\n",
       "      <td>fl:th_ln:bush-1</td>\n",
       "      <td>Thomas A.</td>\n",
       "      <td>Bush</td>\n",
       "      <td>FALSE</td>\n",
       "      <td>tkz70bmoqx88n1lfz3fl657lh</td>\n",
       "    </tr>\n",
       "    <tr>\n",
       "      <th>3</th>\n",
       "      <td>11161990</td>\n",
       "      <td>1</td>\n",
       "      <td>fl:ma_ln:boudreaux-4</td>\n",
       "      <td>Matthew F.</td>\n",
       "      <td>Boudreaux</td>\n",
       "      <td>False</td>\n",
       "      <td>up8ym622ssh09vpqv9rdsygs0</td>\n",
       "    </tr>\n",
       "    <tr>\n",
       "      <th>4</th>\n",
       "      <td>6795487</td>\n",
       "      <td>1</td>\n",
       "      <td>fl:ge_ln:whitworth-1</td>\n",
       "      <td>Gerald</td>\n",
       "      <td>Whitworth</td>\n",
       "      <td>FALSE</td>\n",
       "      <td>96s3xenagksk3dyad1r777a9e</td>\n",
       "    </tr>\n",
       "  </tbody>\n",
       "</table>\n",
       "</div>"
      ],
      "text/plain": [
       "  patent_id  inventor_sequence           inventor_id raw_inventor_name_first  \\\n",
       "0  D1006496                  0    fl:we_ln:jiang-145                 Wenjing   \n",
       "1   6584128                  0    fl:ri_ln:kroeger-1                 Richard   \n",
       "2   4789863                  0       fl:th_ln:bush-1               Thomas A.   \n",
       "3  11161990                  1  fl:ma_ln:boudreaux-4              Matthew F.   \n",
       "4   6795487                  1  fl:ge_ln:whitworth-1                  Gerald   \n",
       "\n",
       "  raw_inventor_name_last deceased_flag             rawlocation_id  \n",
       "0                  Jiang             0  30zgod902k0u495w9b2sb8xk9  \n",
       "1                Kroeger         FALSE  o2ema6bl3kkh6iwziprbzu4m9  \n",
       "2                   Bush         FALSE  tkz70bmoqx88n1lfz3fl657lh  \n",
       "3              Boudreaux         False  up8ym622ssh09vpqv9rdsygs0  \n",
       "4              Whitworth         FALSE  96s3xenagksk3dyad1r777a9e  "
      ]
     },
     "execution_count": 7,
     "metadata": {},
     "output_type": "execute_result"
    }
   ],
   "source": [
    "applicant_g.head(5)"
   ]
  },
  {
   "cell_type": "code",
   "execution_count": 8,
   "metadata": {},
   "outputs": [
    {
     "data": {
      "text/plain": [
       "8888962"
      ]
     },
     "execution_count": 8,
     "metadata": {},
     "output_type": "execute_result"
    }
   ],
   "source": [
    "len(applicant_g['patent_id'].unique())"
   ]
  },
  {
   "cell_type": "code",
   "execution_count": 9,
   "metadata": {},
   "outputs": [
    {
     "data": {
      "text/plain": [
       "8888962"
      ]
     },
     "execution_count": 9,
     "metadata": {},
     "output_type": "execute_result"
    }
   ],
   "source": [
    "sum(applicant_g['inventor_sequence'] == 0)"
   ]
  },
  {
   "cell_type": "markdown",
   "metadata": {},
   "source": [
    "### Patent"
   ]
  },
  {
   "cell_type": "code",
   "execution_count": 10,
   "metadata": {},
   "outputs": [
    {
     "data": {
      "text/html": [
       "<div>\n",
       "<style scoped>\n",
       "    .dataframe tbody tr th:only-of-type {\n",
       "        vertical-align: middle;\n",
       "    }\n",
       "\n",
       "    .dataframe tbody tr th {\n",
       "        vertical-align: top;\n",
       "    }\n",
       "\n",
       "    .dataframe thead th {\n",
       "        text-align: right;\n",
       "    }\n",
       "</style>\n",
       "<table border=\"1\" class=\"dataframe\">\n",
       "  <thead>\n",
       "    <tr style=\"text-align: right;\">\n",
       "      <th></th>\n",
       "      <th>patent_id</th>\n",
       "      <th>patent_type</th>\n",
       "      <th>patent_date</th>\n",
       "      <th>patent_title</th>\n",
       "      <th>wipo_kind</th>\n",
       "      <th>num_claims</th>\n",
       "      <th>withdrawn</th>\n",
       "      <th>filename</th>\n",
       "    </tr>\n",
       "  </thead>\n",
       "  <tbody>\n",
       "    <tr>\n",
       "      <th>0</th>\n",
       "      <td>10000000</td>\n",
       "      <td>utility</td>\n",
       "      <td>2018-06-19</td>\n",
       "      <td>Coherent LADAR using intra-pixel quadrature de...</td>\n",
       "      <td>B2</td>\n",
       "      <td>20</td>\n",
       "      <td>0</td>\n",
       "      <td>ipg180619.xml</td>\n",
       "    </tr>\n",
       "    <tr>\n",
       "      <th>1</th>\n",
       "      <td>10000001</td>\n",
       "      <td>utility</td>\n",
       "      <td>2018-06-19</td>\n",
       "      <td>Injection molding machine and mold thickness c...</td>\n",
       "      <td>B2</td>\n",
       "      <td>12</td>\n",
       "      <td>0</td>\n",
       "      <td>ipg180619.xml</td>\n",
       "    </tr>\n",
       "    <tr>\n",
       "      <th>2</th>\n",
       "      <td>10000002</td>\n",
       "      <td>utility</td>\n",
       "      <td>2018-06-19</td>\n",
       "      <td>Method for manufacturing polymer film and co-e...</td>\n",
       "      <td>B2</td>\n",
       "      <td>9</td>\n",
       "      <td>0</td>\n",
       "      <td>ipg180619.xml</td>\n",
       "    </tr>\n",
       "    <tr>\n",
       "      <th>3</th>\n",
       "      <td>10000003</td>\n",
       "      <td>utility</td>\n",
       "      <td>2018-06-19</td>\n",
       "      <td>Method for producing a container from a thermo...</td>\n",
       "      <td>B2</td>\n",
       "      <td>18</td>\n",
       "      <td>0</td>\n",
       "      <td>ipg180619.xml</td>\n",
       "    </tr>\n",
       "    <tr>\n",
       "      <th>4</th>\n",
       "      <td>10000004</td>\n",
       "      <td>utility</td>\n",
       "      <td>2018-06-19</td>\n",
       "      <td>Process of obtaining a double-oriented film, c...</td>\n",
       "      <td>B2</td>\n",
       "      <td>6</td>\n",
       "      <td>0</td>\n",
       "      <td>ipg180619.xml</td>\n",
       "    </tr>\n",
       "  </tbody>\n",
       "</table>\n",
       "</div>"
      ],
      "text/plain": [
       "  patent_id patent_type patent_date  \\\n",
       "0  10000000     utility  2018-06-19   \n",
       "1  10000001     utility  2018-06-19   \n",
       "2  10000002     utility  2018-06-19   \n",
       "3  10000003     utility  2018-06-19   \n",
       "4  10000004     utility  2018-06-19   \n",
       "\n",
       "                                        patent_title wipo_kind  num_claims  \\\n",
       "0  Coherent LADAR using intra-pixel quadrature de...        B2          20   \n",
       "1  Injection molding machine and mold thickness c...        B2          12   \n",
       "2  Method for manufacturing polymer film and co-e...        B2           9   \n",
       "3  Method for producing a container from a thermo...        B2          18   \n",
       "4  Process of obtaining a double-oriented film, c...        B2           6   \n",
       "\n",
       "   withdrawn       filename  \n",
       "0          0  ipg180619.xml  \n",
       "1          0  ipg180619.xml  \n",
       "2          0  ipg180619.xml  \n",
       "3          0  ipg180619.xml  \n",
       "4          0  ipg180619.xml  "
      ]
     },
     "execution_count": 10,
     "metadata": {},
     "output_type": "execute_result"
    }
   ],
   "source": [
    "patents_g.head(5)"
   ]
  },
  {
   "cell_type": "markdown",
   "metadata": {},
   "source": [
    "### Location"
   ]
  },
  {
   "cell_type": "code",
   "execution_count": 11,
   "metadata": {},
   "outputs": [
    {
     "data": {
      "text/html": [
       "<div>\n",
       "<style scoped>\n",
       "    .dataframe tbody tr th:only-of-type {\n",
       "        vertical-align: middle;\n",
       "    }\n",
       "\n",
       "    .dataframe tbody tr th {\n",
       "        vertical-align: top;\n",
       "    }\n",
       "\n",
       "    .dataframe thead th {\n",
       "        text-align: right;\n",
       "    }\n",
       "</style>\n",
       "<table border=\"1\" class=\"dataframe\">\n",
       "  <thead>\n",
       "    <tr style=\"text-align: right;\">\n",
       "      <th></th>\n",
       "      <th>rawlocation_id</th>\n",
       "      <th>location_id</th>\n",
       "      <th>raw_city</th>\n",
       "      <th>raw_state</th>\n",
       "      <th>raw_country</th>\n",
       "    </tr>\n",
       "  </thead>\n",
       "  <tbody>\n",
       "    <tr>\n",
       "      <th>0</th>\n",
       "      <td>000005mtrirpdyrtlkfbffj0e</td>\n",
       "      <td>1d2251c8-16c8-11ed-9b5f-1234bde3cd05</td>\n",
       "      <td>Kanagawa</td>\n",
       "      <td>NaN</td>\n",
       "      <td>JP</td>\n",
       "    </tr>\n",
       "    <tr>\n",
       "      <th>1</th>\n",
       "      <td>00006fjnoq057no2s4bse374r</td>\n",
       "      <td>439af3dd-16c8-11ed-9b5f-1234bde3cd05</td>\n",
       "      <td>Dallas</td>\n",
       "      <td>TX</td>\n",
       "      <td>US</td>\n",
       "    </tr>\n",
       "    <tr>\n",
       "      <th>2</th>\n",
       "      <td>0000bztanu9rrtm943i8a7wry</td>\n",
       "      <td>8d09bc30-16c8-11ed-9b5f-1234bde3cd05</td>\n",
       "      <td>Osaka</td>\n",
       "      <td>NaN</td>\n",
       "      <td>JP</td>\n",
       "    </tr>\n",
       "    <tr>\n",
       "      <th>3</th>\n",
       "      <td>0000c07c-672a-48d9-a3bb-71c439ac17b3</td>\n",
       "      <td>280c9de4-16c8-11ed-9b5f-1234bde3cd05</td>\n",
       "      <td>NaN</td>\n",
       "      <td>NaN</td>\n",
       "      <td>DE</td>\n",
       "    </tr>\n",
       "    <tr>\n",
       "      <th>4</th>\n",
       "      <td>0000dpr8zljw34um291yal5ym</td>\n",
       "      <td>cf4944e5-16c7-11ed-9b5f-1234bde3cd05</td>\n",
       "      <td>Sugar Land</td>\n",
       "      <td>TX</td>\n",
       "      <td>US</td>\n",
       "    </tr>\n",
       "  </tbody>\n",
       "</table>\n",
       "</div>"
      ],
      "text/plain": [
       "                         rawlocation_id                           location_id  \\\n",
       "0             000005mtrirpdyrtlkfbffj0e  1d2251c8-16c8-11ed-9b5f-1234bde3cd05   \n",
       "1             00006fjnoq057no2s4bse374r  439af3dd-16c8-11ed-9b5f-1234bde3cd05   \n",
       "2             0000bztanu9rrtm943i8a7wry  8d09bc30-16c8-11ed-9b5f-1234bde3cd05   \n",
       "3  0000c07c-672a-48d9-a3bb-71c439ac17b3  280c9de4-16c8-11ed-9b5f-1234bde3cd05   \n",
       "4             0000dpr8zljw34um291yal5ym  cf4944e5-16c7-11ed-9b5f-1234bde3cd05   \n",
       "\n",
       "     raw_city raw_state raw_country  \n",
       "0    Kanagawa       NaN          JP  \n",
       "1      Dallas        TX          US  \n",
       "2       Osaka       NaN          JP  \n",
       "3         NaN       NaN          DE  \n",
       "4  Sugar Land        TX          US  "
      ]
     },
     "execution_count": 11,
     "metadata": {},
     "output_type": "execute_result"
    }
   ],
   "source": [
    "location_g.head(5)"
   ]
  },
  {
   "cell_type": "markdown",
   "metadata": {},
   "source": [
    "### Wipo Technology"
   ]
  },
  {
   "cell_type": "code",
   "execution_count": 12,
   "metadata": {},
   "outputs": [
    {
     "data": {
      "text/html": [
       "<div>\n",
       "<style scoped>\n",
       "    .dataframe tbody tr th:only-of-type {\n",
       "        vertical-align: middle;\n",
       "    }\n",
       "\n",
       "    .dataframe tbody tr th {\n",
       "        vertical-align: top;\n",
       "    }\n",
       "\n",
       "    .dataframe thead th {\n",
       "        text-align: right;\n",
       "    }\n",
       "</style>\n",
       "<table border=\"1\" class=\"dataframe\">\n",
       "  <thead>\n",
       "    <tr style=\"text-align: right;\">\n",
       "      <th></th>\n",
       "      <th>patent_id</th>\n",
       "      <th>wipo_field_sequence</th>\n",
       "      <th>wipo_field_id</th>\n",
       "      <th>wipo_sector_title</th>\n",
       "      <th>wipo_field_title</th>\n",
       "    </tr>\n",
       "  </thead>\n",
       "  <tbody>\n",
       "    <tr>\n",
       "      <th>0</th>\n",
       "      <td>10000000</td>\n",
       "      <td>0</td>\n",
       "      <td>10</td>\n",
       "      <td>Instruments</td>\n",
       "      <td>Measurement</td>\n",
       "    </tr>\n",
       "    <tr>\n",
       "      <th>1</th>\n",
       "      <td>10000001</td>\n",
       "      <td>0</td>\n",
       "      <td>29</td>\n",
       "      <td>Mechanical engineering</td>\n",
       "      <td>Other special machines</td>\n",
       "    </tr>\n",
       "    <tr>\n",
       "      <th>2</th>\n",
       "      <td>10000001</td>\n",
       "      <td>1</td>\n",
       "      <td>12</td>\n",
       "      <td>Instruments</td>\n",
       "      <td>Control</td>\n",
       "    </tr>\n",
       "    <tr>\n",
       "      <th>3</th>\n",
       "      <td>10000002</td>\n",
       "      <td>0</td>\n",
       "      <td>21</td>\n",
       "      <td>Chemistry</td>\n",
       "      <td>Surface technology, coating</td>\n",
       "    </tr>\n",
       "    <tr>\n",
       "      <th>4</th>\n",
       "      <td>10000002</td>\n",
       "      <td>1</td>\n",
       "      <td>29</td>\n",
       "      <td>Mechanical engineering</td>\n",
       "      <td>Other special machines</td>\n",
       "    </tr>\n",
       "  </tbody>\n",
       "</table>\n",
       "</div>"
      ],
      "text/plain": [
       "   patent_id  wipo_field_sequence  wipo_field_id       wipo_sector_title  \\\n",
       "0   10000000                    0             10             Instruments   \n",
       "1   10000001                    0             29  Mechanical engineering   \n",
       "2   10000001                    1             12             Instruments   \n",
       "3   10000002                    0             21               Chemistry   \n",
       "4   10000002                    1             29  Mechanical engineering   \n",
       "\n",
       "              wipo_field_title  \n",
       "0                  Measurement  \n",
       "1       Other special machines  \n",
       "2                      Control  \n",
       "3  Surface technology, coating  \n",
       "4       Other special machines  "
      ]
     },
     "execution_count": 12,
     "metadata": {},
     "output_type": "execute_result"
    }
   ],
   "source": [
    "wipo_g.head(5)"
   ]
  },
  {
   "cell_type": "markdown",
   "metadata": {},
   "source": [
    "## Merging Data"
   ]
  },
  {
   "cell_type": "markdown",
   "metadata": {},
   "source": [
    "#### Assure all ids are string type is there is no issue when merging"
   ]
  },
  {
   "cell_type": "code",
   "execution_count": 14,
   "metadata": {},
   "outputs": [
    {
     "name": "stderr",
     "output_type": "stream",
     "text": [
      "/var/folders/n4/v33nl1c17tn8grw2pny9w0mc0000gn/T/ipykernel_80143/4124212139.py:2: SettingWithCopyWarning: \n",
      "A value is trying to be set on a copy of a slice from a DataFrame.\n",
      "Try using .loc[row_indexer,col_indexer] = value instead\n",
      "\n",
      "See the caveats in the documentation: https://pandas.pydata.org/pandas-docs/stable/user_guide/indexing.html#returning-a-view-versus-a-copy\n",
      "  prim_inventor['patent_id'] = prim_inventor['patent_id'].astype(str)\n"
     ]
    }
   ],
   "source": [
    "patents_g['patent_id'] = patents_g['patent_id'].astype(str)\n",
    "prim_inventor['patent_id'] = prim_inventor['patent_id'].astype(str)\n",
    "wipo_g['patent_id'] = wipo_g['patent_id'].astype(str)"
   ]
  },
  {
   "cell_type": "markdown",
   "metadata": {},
   "source": [
    "#### Merge location and assignee"
   ]
  },
  {
   "cell_type": "code",
   "execution_count": 15,
   "metadata": {},
   "outputs": [],
   "source": [
    "prim_assign = assignee_g[assignee_g['assignee_sequence'] == 0]\n",
    "organization = prim_assign[['patent_id', 'raw_assignee_organization']]"
   ]
  },
  {
   "cell_type": "code",
   "execution_count": 16,
   "metadata": {},
   "outputs": [
    {
     "name": "stderr",
     "output_type": "stream",
     "text": [
      "/var/folders/n4/v33nl1c17tn8grw2pny9w0mc0000gn/T/ipykernel_80143/2287759275.py:1: SettingWithCopyWarning: \n",
      "A value is trying to be set on a copy of a slice from a DataFrame.\n",
      "Try using .loc[row_indexer,col_indexer] = value instead\n",
      "\n",
      "See the caveats in the documentation: https://pandas.pydata.org/pandas-docs/stable/user_guide/indexing.html#returning-a-view-versus-a-copy\n",
      "  organization['patent_id'] = organization['patent_id'].astype(str)\n"
     ]
    }
   ],
   "source": [
    "organization['patent_id'] = organization['patent_id'].astype(str)"
   ]
  },
  {
   "cell_type": "code",
   "execution_count": 17,
   "metadata": {},
   "outputs": [],
   "source": [
    "prim_inventor = pd.merge(prim_inventor, organization, on = 'patent_id', how = 'left')"
   ]
  },
  {
   "cell_type": "code",
   "execution_count": 18,
   "metadata": {},
   "outputs": [
    {
     "data": {
      "text/html": [
       "<div>\n",
       "<style scoped>\n",
       "    .dataframe tbody tr th:only-of-type {\n",
       "        vertical-align: middle;\n",
       "    }\n",
       "\n",
       "    .dataframe tbody tr th {\n",
       "        vertical-align: top;\n",
       "    }\n",
       "\n",
       "    .dataframe thead th {\n",
       "        text-align: right;\n",
       "    }\n",
       "</style>\n",
       "<table border=\"1\" class=\"dataframe\">\n",
       "  <thead>\n",
       "    <tr style=\"text-align: right;\">\n",
       "      <th></th>\n",
       "      <th>patent_id</th>\n",
       "      <th>inventor_sequence</th>\n",
       "      <th>inventor_id</th>\n",
       "      <th>raw_inventor_name_first</th>\n",
       "      <th>raw_inventor_name_last</th>\n",
       "      <th>deceased_flag</th>\n",
       "      <th>rawlocation_id</th>\n",
       "      <th>raw_assignee_organization</th>\n",
       "    </tr>\n",
       "  </thead>\n",
       "  <tbody>\n",
       "    <tr>\n",
       "      <th>0</th>\n",
       "      <td>D1006496</td>\n",
       "      <td>0</td>\n",
       "      <td>fl:we_ln:jiang-145</td>\n",
       "      <td>Wenjing</td>\n",
       "      <td>Jiang</td>\n",
       "      <td>0</td>\n",
       "      <td>30zgod902k0u495w9b2sb8xk9</td>\n",
       "      <td>NaN</td>\n",
       "    </tr>\n",
       "    <tr>\n",
       "      <th>1</th>\n",
       "      <td>6584128</td>\n",
       "      <td>0</td>\n",
       "      <td>fl:ri_ln:kroeger-1</td>\n",
       "      <td>Richard</td>\n",
       "      <td>Kroeger</td>\n",
       "      <td>FALSE</td>\n",
       "      <td>o2ema6bl3kkh6iwziprbzu4m9</td>\n",
       "      <td>Scientific-Atlanta, Inc.</td>\n",
       "    </tr>\n",
       "    <tr>\n",
       "      <th>2</th>\n",
       "      <td>4789863</td>\n",
       "      <td>0</td>\n",
       "      <td>fl:th_ln:bush-1</td>\n",
       "      <td>Thomas A.</td>\n",
       "      <td>Bush</td>\n",
       "      <td>FALSE</td>\n",
       "      <td>tkz70bmoqx88n1lfz3fl657lh</td>\n",
       "      <td>NaN</td>\n",
       "    </tr>\n",
       "    <tr>\n",
       "      <th>3</th>\n",
       "      <td>D474886</td>\n",
       "      <td>0</td>\n",
       "      <td>fl:th_ln:fleming-4</td>\n",
       "      <td>Thomas W.</td>\n",
       "      <td>Fleming</td>\n",
       "      <td>FALSE</td>\n",
       "      <td>cmf9hebugybql8ufffo47uwcz</td>\n",
       "      <td>Bacou-Dalloz USA Safety, Inc.</td>\n",
       "    </tr>\n",
       "    <tr>\n",
       "      <th>4</th>\n",
       "      <td>7646155</td>\n",
       "      <td>0</td>\n",
       "      <td>fl:sa_ln:woods-2</td>\n",
       "      <td>Samuel G</td>\n",
       "      <td>Woods</td>\n",
       "      <td>FALSE</td>\n",
       "      <td>omi6wqlrblholsssk9qx0dz5b</td>\n",
       "      <td>Balck &amp; Decker Inc.</td>\n",
       "    </tr>\n",
       "  </tbody>\n",
       "</table>\n",
       "</div>"
      ],
      "text/plain": [
       "  patent_id  inventor_sequence         inventor_id raw_inventor_name_first  \\\n",
       "0  D1006496                  0  fl:we_ln:jiang-145                 Wenjing   \n",
       "1   6584128                  0  fl:ri_ln:kroeger-1                 Richard   \n",
       "2   4789863                  0     fl:th_ln:bush-1               Thomas A.   \n",
       "3   D474886                  0  fl:th_ln:fleming-4               Thomas W.   \n",
       "4   7646155                  0    fl:sa_ln:woods-2                Samuel G   \n",
       "\n",
       "  raw_inventor_name_last deceased_flag             rawlocation_id  \\\n",
       "0                  Jiang             0  30zgod902k0u495w9b2sb8xk9   \n",
       "1                Kroeger         FALSE  o2ema6bl3kkh6iwziprbzu4m9   \n",
       "2                   Bush         FALSE  tkz70bmoqx88n1lfz3fl657lh   \n",
       "3                Fleming         FALSE  cmf9hebugybql8ufffo47uwcz   \n",
       "4                  Woods         FALSE  omi6wqlrblholsssk9qx0dz5b   \n",
       "\n",
       "       raw_assignee_organization  \n",
       "0                            NaN  \n",
       "1       Scientific-Atlanta, Inc.  \n",
       "2                            NaN  \n",
       "3  Bacou-Dalloz USA Safety, Inc.  \n",
       "4            Balck & Decker Inc.  "
      ]
     },
     "execution_count": 18,
     "metadata": {},
     "output_type": "execute_result"
    }
   ],
   "source": [
    "prim_inventor.head(5)"
   ]
  },
  {
   "cell_type": "code",
   "execution_count": 19,
   "metadata": {},
   "outputs": [],
   "source": [
    "# Ensure IDs are strings\n",
    "location_g['rawlocation_id'] = location_g['rawlocation_id'].astype(str)\n",
    "prim_inventor['rawlocation_id'] = prim_inventor['rawlocation_id'].astype(str)\n",
    "\n",
    "# Filter location_g where raw_location_id exists in assignee_g.location_id to make merge faster since time complexity....idk if it makes that big of difference\n",
    "filtered_location_g = location_g[location_g['rawlocation_id'].isin(prim_inventor['rawlocation_id'])]"
   ]
  },
  {
   "cell_type": "code",
   "execution_count": 20,
   "metadata": {},
   "outputs": [],
   "source": [
    "location_assignee = pd.merge(prim_inventor, filtered_location_g, on='rawlocation_id', how='left')"
   ]
  },
  {
   "cell_type": "code",
   "execution_count": 21,
   "metadata": {},
   "outputs": [
    {
     "data": {
      "text/html": [
       "<div>\n",
       "<style scoped>\n",
       "    .dataframe tbody tr th:only-of-type {\n",
       "        vertical-align: middle;\n",
       "    }\n",
       "\n",
       "    .dataframe tbody tr th {\n",
       "        vertical-align: top;\n",
       "    }\n",
       "\n",
       "    .dataframe thead th {\n",
       "        text-align: right;\n",
       "    }\n",
       "</style>\n",
       "<table border=\"1\" class=\"dataframe\">\n",
       "  <thead>\n",
       "    <tr style=\"text-align: right;\">\n",
       "      <th></th>\n",
       "      <th>patent_id</th>\n",
       "      <th>inventor_sequence</th>\n",
       "      <th>inventor_id</th>\n",
       "      <th>raw_inventor_name_first</th>\n",
       "      <th>raw_inventor_name_last</th>\n",
       "      <th>deceased_flag</th>\n",
       "      <th>rawlocation_id</th>\n",
       "      <th>raw_assignee_organization</th>\n",
       "      <th>location_id</th>\n",
       "      <th>raw_city</th>\n",
       "      <th>raw_state</th>\n",
       "      <th>raw_country</th>\n",
       "    </tr>\n",
       "  </thead>\n",
       "  <tbody>\n",
       "    <tr>\n",
       "      <th>0</th>\n",
       "      <td>D1006496</td>\n",
       "      <td>0</td>\n",
       "      <td>fl:we_ln:jiang-145</td>\n",
       "      <td>Wenjing</td>\n",
       "      <td>Jiang</td>\n",
       "      <td>0</td>\n",
       "      <td>30zgod902k0u495w9b2sb8xk9</td>\n",
       "      <td>NaN</td>\n",
       "      <td>9d072d42-49af-11ed-9879-1234bde3cd05</td>\n",
       "      <td>Guizhou</td>\n",
       "      <td>NaN</td>\n",
       "      <td>CN</td>\n",
       "    </tr>\n",
       "    <tr>\n",
       "      <th>1</th>\n",
       "      <td>6584128</td>\n",
       "      <td>0</td>\n",
       "      <td>fl:ri_ln:kroeger-1</td>\n",
       "      <td>Richard</td>\n",
       "      <td>Kroeger</td>\n",
       "      <td>FALSE</td>\n",
       "      <td>o2ema6bl3kkh6iwziprbzu4m9</td>\n",
       "      <td>Scientific-Atlanta, Inc.</td>\n",
       "      <td>NaN</td>\n",
       "      <td>NaN</td>\n",
       "      <td>NaN</td>\n",
       "      <td>NaN</td>\n",
       "    </tr>\n",
       "    <tr>\n",
       "      <th>2</th>\n",
       "      <td>4789863</td>\n",
       "      <td>0</td>\n",
       "      <td>fl:th_ln:bush-1</td>\n",
       "      <td>Thomas A.</td>\n",
       "      <td>Bush</td>\n",
       "      <td>FALSE</td>\n",
       "      <td>tkz70bmoqx88n1lfz3fl657lh</td>\n",
       "      <td>NaN</td>\n",
       "      <td>NaN</td>\n",
       "      <td>NaN</td>\n",
       "      <td>NaN</td>\n",
       "      <td>NaN</td>\n",
       "    </tr>\n",
       "    <tr>\n",
       "      <th>3</th>\n",
       "      <td>D474886</td>\n",
       "      <td>0</td>\n",
       "      <td>fl:th_ln:fleming-4</td>\n",
       "      <td>Thomas W.</td>\n",
       "      <td>Fleming</td>\n",
       "      <td>FALSE</td>\n",
       "      <td>cmf9hebugybql8ufffo47uwcz</td>\n",
       "      <td>Bacou-Dalloz USA Safety, Inc.</td>\n",
       "      <td>1893009c-16c8-11ed-9b5f-1234bde3cd05</td>\n",
       "      <td>San Diego</td>\n",
       "      <td>CA</td>\n",
       "      <td>US</td>\n",
       "    </tr>\n",
       "  </tbody>\n",
       "</table>\n",
       "</div>"
      ],
      "text/plain": [
       "  patent_id  inventor_sequence         inventor_id raw_inventor_name_first  \\\n",
       "0  D1006496                  0  fl:we_ln:jiang-145                 Wenjing   \n",
       "1   6584128                  0  fl:ri_ln:kroeger-1                 Richard   \n",
       "2   4789863                  0     fl:th_ln:bush-1               Thomas A.   \n",
       "3   D474886                  0  fl:th_ln:fleming-4               Thomas W.   \n",
       "\n",
       "  raw_inventor_name_last deceased_flag             rawlocation_id  \\\n",
       "0                  Jiang             0  30zgod902k0u495w9b2sb8xk9   \n",
       "1                Kroeger         FALSE  o2ema6bl3kkh6iwziprbzu4m9   \n",
       "2                   Bush         FALSE  tkz70bmoqx88n1lfz3fl657lh   \n",
       "3                Fleming         FALSE  cmf9hebugybql8ufffo47uwcz   \n",
       "\n",
       "       raw_assignee_organization                           location_id  \\\n",
       "0                            NaN  9d072d42-49af-11ed-9879-1234bde3cd05   \n",
       "1       Scientific-Atlanta, Inc.                                   NaN   \n",
       "2                            NaN                                   NaN   \n",
       "3  Bacou-Dalloz USA Safety, Inc.  1893009c-16c8-11ed-9b5f-1234bde3cd05   \n",
       "\n",
       "    raw_city raw_state raw_country  \n",
       "0    Guizhou       NaN          CN  \n",
       "1        NaN       NaN         NaN  \n",
       "2        NaN       NaN         NaN  \n",
       "3  San Diego        CA          US  "
      ]
     },
     "execution_count": 21,
     "metadata": {},
     "output_type": "execute_result"
    }
   ],
   "source": [
    "location_assignee.head(4)"
   ]
  },
  {
   "cell_type": "code",
   "execution_count": 22,
   "metadata": {},
   "outputs": [
    {
     "name": "stdout",
     "output_type": "stream",
     "text": [
      "Rows in patents_g with no match in location_assignee: 1087\n",
      "Rows in location_assignee with no match in patents_g: 0\n"
     ]
    }
   ],
   "source": [
    "missing_in_location_assignee = patents_g[~patents_g['patent_id'].isin(location_assignee['patent_id'])]\n",
    "print(\"Rows in patents_g with no match in location_assignee:\", len(missing_in_location_assignee))\n",
    "\n",
    "missing_in_patents_g = location_assignee[~location_assignee['patent_id'].isin(patents_g['patent_id'])]\n",
    "print(\"Rows in location_assignee with no match in patents_g:\", len(missing_in_patents_g))\n"
   ]
  },
  {
   "cell_type": "code",
   "execution_count": 23,
   "metadata": {},
   "outputs": [],
   "source": [
    "patent_location_assignee = pd.merge(patents_g, location_assignee, on='patent_id', how='left')"
   ]
  },
  {
   "cell_type": "markdown",
   "metadata": {},
   "source": [
    "### Getting Values with only Valid location"
   ]
  },
  {
   "cell_type": "code",
   "execution_count": 24,
   "metadata": {},
   "outputs": [
    {
     "data": {
      "text/html": [
       "<div>\n",
       "<style scoped>\n",
       "    .dataframe tbody tr th:only-of-type {\n",
       "        vertical-align: middle;\n",
       "    }\n",
       "\n",
       "    .dataframe tbody tr th {\n",
       "        vertical-align: top;\n",
       "    }\n",
       "\n",
       "    .dataframe thead th {\n",
       "        text-align: right;\n",
       "    }\n",
       "</style>\n",
       "<table border=\"1\" class=\"dataframe\">\n",
       "  <thead>\n",
       "    <tr style=\"text-align: right;\">\n",
       "      <th></th>\n",
       "      <th>patent_id</th>\n",
       "      <th>patent_type</th>\n",
       "      <th>patent_date</th>\n",
       "      <th>patent_title</th>\n",
       "      <th>wipo_kind</th>\n",
       "      <th>num_claims</th>\n",
       "      <th>withdrawn</th>\n",
       "      <th>filename</th>\n",
       "      <th>inventor_sequence</th>\n",
       "      <th>inventor_id</th>\n",
       "      <th>raw_inventor_name_first</th>\n",
       "      <th>raw_inventor_name_last</th>\n",
       "      <th>deceased_flag</th>\n",
       "      <th>rawlocation_id</th>\n",
       "      <th>raw_assignee_organization</th>\n",
       "      <th>location_id</th>\n",
       "      <th>raw_city</th>\n",
       "      <th>raw_state</th>\n",
       "      <th>raw_country</th>\n",
       "    </tr>\n",
       "  </thead>\n",
       "  <tbody>\n",
       "    <tr>\n",
       "      <th>0</th>\n",
       "      <td>10000000</td>\n",
       "      <td>utility</td>\n",
       "      <td>2018-06-19</td>\n",
       "      <td>Coherent LADAR using intra-pixel quadrature de...</td>\n",
       "      <td>B2</td>\n",
       "      <td>20</td>\n",
       "      <td>0</td>\n",
       "      <td>ipg180619.xml</td>\n",
       "      <td>0.0</td>\n",
       "      <td>fl:jo_ln:marron-5</td>\n",
       "      <td>Joseph</td>\n",
       "      <td>Marron</td>\n",
       "      <td>FALSE</td>\n",
       "      <td>klkuujc1w3iik6xrp7c2wdvt7</td>\n",
       "      <td>Raytheon Company</td>\n",
       "      <td>198b0471-16c8-11ed-9b5f-1234bde3cd05</td>\n",
       "      <td>Manhattan Beach</td>\n",
       "      <td>CA</td>\n",
       "      <td>US</td>\n",
       "    </tr>\n",
       "    <tr>\n",
       "      <th>1</th>\n",
       "      <td>10000001</td>\n",
       "      <td>utility</td>\n",
       "      <td>2018-06-19</td>\n",
       "      <td>Injection molding machine and mold thickness c...</td>\n",
       "      <td>B2</td>\n",
       "      <td>12</td>\n",
       "      <td>0</td>\n",
       "      <td>ipg180619.xml</td>\n",
       "      <td>0.0</td>\n",
       "      <td>fl:su_ln:lee-438</td>\n",
       "      <td>Sun-Woo</td>\n",
       "      <td>Lee</td>\n",
       "      <td>FALSE</td>\n",
       "      <td>95igh4mbo217kt9dmb2x8r3il</td>\n",
       "      <td>LS MTRON LTD.</td>\n",
       "      <td>6c4ba08f-16c8-11ed-9b5f-1234bde3cd05</td>\n",
       "      <td>Gunpo-si</td>\n",
       "      <td>NaN</td>\n",
       "      <td>KR</td>\n",
       "    </tr>\n",
       "    <tr>\n",
       "      <th>2</th>\n",
       "      <td>10000002</td>\n",
       "      <td>utility</td>\n",
       "      <td>2018-06-19</td>\n",
       "      <td>Method for manufacturing polymer film and co-e...</td>\n",
       "      <td>B2</td>\n",
       "      <td>9</td>\n",
       "      <td>0</td>\n",
       "      <td>ipg180619.xml</td>\n",
       "      <td>0.0</td>\n",
       "      <td>fl:yu_ln:kim-65</td>\n",
       "      <td>Yun-Jo</td>\n",
       "      <td>Kim</td>\n",
       "      <td>FALSE</td>\n",
       "      <td>0jpghs5hm2z9y7c7t5wqcw9nk</td>\n",
       "      <td>KOLON INDUSTRIES, INC.</td>\n",
       "      <td>755a6338-16c8-11ed-9b5f-1234bde3cd05</td>\n",
       "      <td>Yongin-si</td>\n",
       "      <td>NaN</td>\n",
       "      <td>KR</td>\n",
       "    </tr>\n",
       "    <tr>\n",
       "      <th>3</th>\n",
       "      <td>10000003</td>\n",
       "      <td>utility</td>\n",
       "      <td>2018-06-19</td>\n",
       "      <td>Method for producing a container from a thermo...</td>\n",
       "      <td>B2</td>\n",
       "      <td>18</td>\n",
       "      <td>0</td>\n",
       "      <td>ipg180619.xml</td>\n",
       "      <td>0.0</td>\n",
       "      <td>fl:gu_ln:bergmann-3</td>\n",
       "      <td>Guido</td>\n",
       "      <td>Bergmann</td>\n",
       "      <td>FALSE</td>\n",
       "      <td>c9av9x4gxgkr3bvhc2dtrhsvz</td>\n",
       "      <td>KAUTEX TEXTRON GMBH &amp; CO. KG</td>\n",
       "      <td>6c737da8-16c8-11ed-9b5f-1234bde3cd05</td>\n",
       "      <td>St. Augustin</td>\n",
       "      <td>NaN</td>\n",
       "      <td>DE</td>\n",
       "    </tr>\n",
       "    <tr>\n",
       "      <th>4</th>\n",
       "      <td>10000004</td>\n",
       "      <td>utility</td>\n",
       "      <td>2018-06-19</td>\n",
       "      <td>Process of obtaining a double-oriented film, c...</td>\n",
       "      <td>B2</td>\n",
       "      <td>6</td>\n",
       "      <td>0</td>\n",
       "      <td>ipg180619.xml</td>\n",
       "      <td>0.0</td>\n",
       "      <td>fl:mi_ln:zubiriaelizondo-1</td>\n",
       "      <td>Miguel Jorge</td>\n",
       "      <td>Zubiria Elizondo</td>\n",
       "      <td>FALSE</td>\n",
       "      <td>v8ucm2trnfns3id8krhmw8bty</td>\n",
       "      <td>ZUBEX INDUSTRIAL SA DE CV</td>\n",
       "      <td>74ce52e1-16c8-11ed-9b5f-1234bde3cd05</td>\n",
       "      <td>Monterrey</td>\n",
       "      <td>NaN</td>\n",
       "      <td>MX</td>\n",
       "    </tr>\n",
       "  </tbody>\n",
       "</table>\n",
       "</div>"
      ],
      "text/plain": [
       "  patent_id patent_type patent_date  \\\n",
       "0  10000000     utility  2018-06-19   \n",
       "1  10000001     utility  2018-06-19   \n",
       "2  10000002     utility  2018-06-19   \n",
       "3  10000003     utility  2018-06-19   \n",
       "4  10000004     utility  2018-06-19   \n",
       "\n",
       "                                        patent_title wipo_kind  num_claims  \\\n",
       "0  Coherent LADAR using intra-pixel quadrature de...        B2          20   \n",
       "1  Injection molding machine and mold thickness c...        B2          12   \n",
       "2  Method for manufacturing polymer film and co-e...        B2           9   \n",
       "3  Method for producing a container from a thermo...        B2          18   \n",
       "4  Process of obtaining a double-oriented film, c...        B2           6   \n",
       "\n",
       "   withdrawn       filename  inventor_sequence                 inventor_id  \\\n",
       "0          0  ipg180619.xml                0.0           fl:jo_ln:marron-5   \n",
       "1          0  ipg180619.xml                0.0            fl:su_ln:lee-438   \n",
       "2          0  ipg180619.xml                0.0             fl:yu_ln:kim-65   \n",
       "3          0  ipg180619.xml                0.0         fl:gu_ln:bergmann-3   \n",
       "4          0  ipg180619.xml                0.0  fl:mi_ln:zubiriaelizondo-1   \n",
       "\n",
       "  raw_inventor_name_first raw_inventor_name_last deceased_flag  \\\n",
       "0                  Joseph                 Marron         FALSE   \n",
       "1                 Sun-Woo                    Lee         FALSE   \n",
       "2                  Yun-Jo                    Kim         FALSE   \n",
       "3                   Guido               Bergmann         FALSE   \n",
       "4            Miguel Jorge       Zubiria Elizondo         FALSE   \n",
       "\n",
       "              rawlocation_id     raw_assignee_organization  \\\n",
       "0  klkuujc1w3iik6xrp7c2wdvt7              Raytheon Company   \n",
       "1  95igh4mbo217kt9dmb2x8r3il                 LS MTRON LTD.   \n",
       "2  0jpghs5hm2z9y7c7t5wqcw9nk        KOLON INDUSTRIES, INC.   \n",
       "3  c9av9x4gxgkr3bvhc2dtrhsvz  KAUTEX TEXTRON GMBH & CO. KG   \n",
       "4  v8ucm2trnfns3id8krhmw8bty     ZUBEX INDUSTRIAL SA DE CV   \n",
       "\n",
       "                            location_id         raw_city raw_state raw_country  \n",
       "0  198b0471-16c8-11ed-9b5f-1234bde3cd05  Manhattan Beach        CA          US  \n",
       "1  6c4ba08f-16c8-11ed-9b5f-1234bde3cd05         Gunpo-si       NaN          KR  \n",
       "2  755a6338-16c8-11ed-9b5f-1234bde3cd05        Yongin-si       NaN          KR  \n",
       "3  6c737da8-16c8-11ed-9b5f-1234bde3cd05     St. Augustin       NaN          DE  \n",
       "4  74ce52e1-16c8-11ed-9b5f-1234bde3cd05        Monterrey       NaN          MX  "
      ]
     },
     "execution_count": 24,
     "metadata": {},
     "output_type": "execute_result"
    }
   ],
   "source": [
    "patent_location_assignee.head(5)"
   ]
  },
  {
   "cell_type": "code",
   "execution_count": 25,
   "metadata": {},
   "outputs": [],
   "source": [
    "valid_locations = patent_location_assignee[patent_location_assignee['rawlocation_id'].notnull()]\n"
   ]
  },
  {
   "cell_type": "code",
   "execution_count": 26,
   "metadata": {},
   "outputs": [
    {
     "data": {
      "text/plain": [
       "8888962"
      ]
     },
     "execution_count": 26,
     "metadata": {},
     "output_type": "execute_result"
    }
   ],
   "source": [
    "len(valid_locations)"
   ]
  },
  {
   "cell_type": "code",
   "execution_count": 27,
   "metadata": {},
   "outputs": [
    {
     "name": "stdout",
     "output_type": "stream",
     "text": [
      "Empty DataFrame\n",
      "Columns: [patent_id, patent_type, patent_date, patent_title, wipo_kind, num_claims, withdrawn, filename, inventor_sequence, inventor_id, raw_inventor_name_first, raw_inventor_name_last, deceased_flag, rawlocation_id, raw_assignee_organization, location_id, raw_city, raw_state, raw_country]\n",
      "Index: []\n"
     ]
    }
   ],
   "source": [
    "# Find duplicate patent_id values\n",
    "duplicate_ids = valid_locations['patent_id'][valid_locations['patent_id'].duplicated()]\n",
    "\n",
    "# Filter the DataFrame to get only rows with duplicate patent_id values and sort by 'patent_id'\n",
    "duplicates = valid_locations[valid_locations['patent_id'].isin(duplicate_ids)].sort_values(by='patent_id')\n",
    "\n",
    "# Display the result\n",
    "print(duplicates)\n"
   ]
  },
  {
   "cell_type": "code",
   "execution_count": 28,
   "metadata": {},
   "outputs": [
    {
     "data": {
      "text/html": [
       "<div>\n",
       "<style scoped>\n",
       "    .dataframe tbody tr th:only-of-type {\n",
       "        vertical-align: middle;\n",
       "    }\n",
       "\n",
       "    .dataframe tbody tr th {\n",
       "        vertical-align: top;\n",
       "    }\n",
       "\n",
       "    .dataframe thead th {\n",
       "        text-align: right;\n",
       "    }\n",
       "</style>\n",
       "<table border=\"1\" class=\"dataframe\">\n",
       "  <thead>\n",
       "    <tr style=\"text-align: right;\">\n",
       "      <th></th>\n",
       "      <th>patent_id</th>\n",
       "      <th>patent_type</th>\n",
       "      <th>patent_date</th>\n",
       "      <th>patent_title</th>\n",
       "      <th>wipo_kind</th>\n",
       "      <th>num_claims</th>\n",
       "      <th>withdrawn</th>\n",
       "      <th>filename</th>\n",
       "      <th>inventor_sequence</th>\n",
       "      <th>inventor_id</th>\n",
       "      <th>raw_inventor_name_first</th>\n",
       "      <th>raw_inventor_name_last</th>\n",
       "      <th>deceased_flag</th>\n",
       "      <th>rawlocation_id</th>\n",
       "      <th>raw_assignee_organization</th>\n",
       "      <th>location_id</th>\n",
       "      <th>raw_city</th>\n",
       "      <th>raw_state</th>\n",
       "      <th>raw_country</th>\n",
       "    </tr>\n",
       "  </thead>\n",
       "  <tbody>\n",
       "  </tbody>\n",
       "</table>\n",
       "</div>"
      ],
      "text/plain": [
       "Empty DataFrame\n",
       "Columns: [patent_id, patent_type, patent_date, patent_title, wipo_kind, num_claims, withdrawn, filename, inventor_sequence, inventor_id, raw_inventor_name_first, raw_inventor_name_last, deceased_flag, rawlocation_id, raw_assignee_organization, location_id, raw_city, raw_state, raw_country]\n",
       "Index: []"
      ]
     },
     "execution_count": 28,
     "metadata": {},
     "output_type": "execute_result"
    }
   ],
   "source": [
    "duplicates"
   ]
  },
  {
   "cell_type": "code",
   "execution_count": 29,
   "metadata": {},
   "outputs": [
    {
     "data": {
      "text/plain": [
       "8888962"
      ]
     },
     "execution_count": 29,
     "metadata": {},
     "output_type": "execute_result"
    }
   ],
   "source": [
    "len(valid_locations['patent_id'].unique())"
   ]
  },
  {
   "cell_type": "code",
   "execution_count": 30,
   "metadata": {},
   "outputs": [],
   "source": [
    "prim_type = wipo_g[wipo_g['wipo_field_sequence'] == 0]"
   ]
  },
  {
   "cell_type": "code",
   "execution_count": 31,
   "metadata": {},
   "outputs": [],
   "source": [
    "TechType_df = pd.merge(valid_locations, prim_type, on='patent_id', how='left')\n"
   ]
  },
  {
   "cell_type": "code",
   "execution_count": 32,
   "metadata": {},
   "outputs": [
    {
     "data": {
      "text/plain": [
       "8888962"
      ]
     },
     "execution_count": 32,
     "metadata": {},
     "output_type": "execute_result"
    }
   ],
   "source": [
    "len(TechType_df)"
   ]
  },
  {
   "cell_type": "code",
   "execution_count": 33,
   "metadata": {},
   "outputs": [
    {
     "data": {
      "text/html": [
       "<div>\n",
       "<style scoped>\n",
       "    .dataframe tbody tr th:only-of-type {\n",
       "        vertical-align: middle;\n",
       "    }\n",
       "\n",
       "    .dataframe tbody tr th {\n",
       "        vertical-align: top;\n",
       "    }\n",
       "\n",
       "    .dataframe thead th {\n",
       "        text-align: right;\n",
       "    }\n",
       "</style>\n",
       "<table border=\"1\" class=\"dataframe\">\n",
       "  <thead>\n",
       "    <tr style=\"text-align: right;\">\n",
       "      <th></th>\n",
       "      <th>patent_id</th>\n",
       "      <th>patent_type</th>\n",
       "      <th>patent_date</th>\n",
       "      <th>patent_title</th>\n",
       "      <th>wipo_kind</th>\n",
       "      <th>num_claims</th>\n",
       "      <th>withdrawn</th>\n",
       "      <th>filename</th>\n",
       "      <th>inventor_sequence</th>\n",
       "      <th>inventor_id</th>\n",
       "      <th>...</th>\n",
       "      <th>rawlocation_id</th>\n",
       "      <th>raw_assignee_organization</th>\n",
       "      <th>location_id</th>\n",
       "      <th>raw_city</th>\n",
       "      <th>raw_state</th>\n",
       "      <th>raw_country</th>\n",
       "      <th>wipo_field_sequence</th>\n",
       "      <th>wipo_field_id</th>\n",
       "      <th>wipo_sector_title</th>\n",
       "      <th>wipo_field_title</th>\n",
       "    </tr>\n",
       "  </thead>\n",
       "  <tbody>\n",
       "    <tr>\n",
       "      <th>0</th>\n",
       "      <td>10000000</td>\n",
       "      <td>utility</td>\n",
       "      <td>2018-06-19</td>\n",
       "      <td>Coherent LADAR using intra-pixel quadrature de...</td>\n",
       "      <td>B2</td>\n",
       "      <td>20</td>\n",
       "      <td>0</td>\n",
       "      <td>ipg180619.xml</td>\n",
       "      <td>0.0</td>\n",
       "      <td>fl:jo_ln:marron-5</td>\n",
       "      <td>...</td>\n",
       "      <td>klkuujc1w3iik6xrp7c2wdvt7</td>\n",
       "      <td>Raytheon Company</td>\n",
       "      <td>198b0471-16c8-11ed-9b5f-1234bde3cd05</td>\n",
       "      <td>Manhattan Beach</td>\n",
       "      <td>CA</td>\n",
       "      <td>US</td>\n",
       "      <td>0.0</td>\n",
       "      <td>10.0</td>\n",
       "      <td>Instruments</td>\n",
       "      <td>Measurement</td>\n",
       "    </tr>\n",
       "    <tr>\n",
       "      <th>1</th>\n",
       "      <td>10000001</td>\n",
       "      <td>utility</td>\n",
       "      <td>2018-06-19</td>\n",
       "      <td>Injection molding machine and mold thickness c...</td>\n",
       "      <td>B2</td>\n",
       "      <td>12</td>\n",
       "      <td>0</td>\n",
       "      <td>ipg180619.xml</td>\n",
       "      <td>0.0</td>\n",
       "      <td>fl:su_ln:lee-438</td>\n",
       "      <td>...</td>\n",
       "      <td>95igh4mbo217kt9dmb2x8r3il</td>\n",
       "      <td>LS MTRON LTD.</td>\n",
       "      <td>6c4ba08f-16c8-11ed-9b5f-1234bde3cd05</td>\n",
       "      <td>Gunpo-si</td>\n",
       "      <td>NaN</td>\n",
       "      <td>KR</td>\n",
       "      <td>0.0</td>\n",
       "      <td>29.0</td>\n",
       "      <td>Mechanical engineering</td>\n",
       "      <td>Other special machines</td>\n",
       "    </tr>\n",
       "    <tr>\n",
       "      <th>2</th>\n",
       "      <td>10000002</td>\n",
       "      <td>utility</td>\n",
       "      <td>2018-06-19</td>\n",
       "      <td>Method for manufacturing polymer film and co-e...</td>\n",
       "      <td>B2</td>\n",
       "      <td>9</td>\n",
       "      <td>0</td>\n",
       "      <td>ipg180619.xml</td>\n",
       "      <td>0.0</td>\n",
       "      <td>fl:yu_ln:kim-65</td>\n",
       "      <td>...</td>\n",
       "      <td>0jpghs5hm2z9y7c7t5wqcw9nk</td>\n",
       "      <td>KOLON INDUSTRIES, INC.</td>\n",
       "      <td>755a6338-16c8-11ed-9b5f-1234bde3cd05</td>\n",
       "      <td>Yongin-si</td>\n",
       "      <td>NaN</td>\n",
       "      <td>KR</td>\n",
       "      <td>0.0</td>\n",
       "      <td>21.0</td>\n",
       "      <td>Chemistry</td>\n",
       "      <td>Surface technology, coating</td>\n",
       "    </tr>\n",
       "    <tr>\n",
       "      <th>3</th>\n",
       "      <td>10000003</td>\n",
       "      <td>utility</td>\n",
       "      <td>2018-06-19</td>\n",
       "      <td>Method for producing a container from a thermo...</td>\n",
       "      <td>B2</td>\n",
       "      <td>18</td>\n",
       "      <td>0</td>\n",
       "      <td>ipg180619.xml</td>\n",
       "      <td>0.0</td>\n",
       "      <td>fl:gu_ln:bergmann-3</td>\n",
       "      <td>...</td>\n",
       "      <td>c9av9x4gxgkr3bvhc2dtrhsvz</td>\n",
       "      <td>KAUTEX TEXTRON GMBH &amp; CO. KG</td>\n",
       "      <td>6c737da8-16c8-11ed-9b5f-1234bde3cd05</td>\n",
       "      <td>St. Augustin</td>\n",
       "      <td>NaN</td>\n",
       "      <td>DE</td>\n",
       "      <td>0.0</td>\n",
       "      <td>29.0</td>\n",
       "      <td>Mechanical engineering</td>\n",
       "      <td>Other special machines</td>\n",
       "    </tr>\n",
       "  </tbody>\n",
       "</table>\n",
       "<p>4 rows × 23 columns</p>\n",
       "</div>"
      ],
      "text/plain": [
       "  patent_id patent_type patent_date  \\\n",
       "0  10000000     utility  2018-06-19   \n",
       "1  10000001     utility  2018-06-19   \n",
       "2  10000002     utility  2018-06-19   \n",
       "3  10000003     utility  2018-06-19   \n",
       "\n",
       "                                        patent_title wipo_kind  num_claims  \\\n",
       "0  Coherent LADAR using intra-pixel quadrature de...        B2          20   \n",
       "1  Injection molding machine and mold thickness c...        B2          12   \n",
       "2  Method for manufacturing polymer film and co-e...        B2           9   \n",
       "3  Method for producing a container from a thermo...        B2          18   \n",
       "\n",
       "   withdrawn       filename  inventor_sequence          inventor_id  ...  \\\n",
       "0          0  ipg180619.xml                0.0    fl:jo_ln:marron-5  ...   \n",
       "1          0  ipg180619.xml                0.0     fl:su_ln:lee-438  ...   \n",
       "2          0  ipg180619.xml                0.0      fl:yu_ln:kim-65  ...   \n",
       "3          0  ipg180619.xml                0.0  fl:gu_ln:bergmann-3  ...   \n",
       "\n",
       "              rawlocation_id     raw_assignee_organization  \\\n",
       "0  klkuujc1w3iik6xrp7c2wdvt7              Raytheon Company   \n",
       "1  95igh4mbo217kt9dmb2x8r3il                 LS MTRON LTD.   \n",
       "2  0jpghs5hm2z9y7c7t5wqcw9nk        KOLON INDUSTRIES, INC.   \n",
       "3  c9av9x4gxgkr3bvhc2dtrhsvz  KAUTEX TEXTRON GMBH & CO. KG   \n",
       "\n",
       "                            location_id         raw_city raw_state  \\\n",
       "0  198b0471-16c8-11ed-9b5f-1234bde3cd05  Manhattan Beach        CA   \n",
       "1  6c4ba08f-16c8-11ed-9b5f-1234bde3cd05         Gunpo-si       NaN   \n",
       "2  755a6338-16c8-11ed-9b5f-1234bde3cd05        Yongin-si       NaN   \n",
       "3  6c737da8-16c8-11ed-9b5f-1234bde3cd05     St. Augustin       NaN   \n",
       "\n",
       "  raw_country wipo_field_sequence wipo_field_id       wipo_sector_title  \\\n",
       "0          US                 0.0          10.0             Instruments   \n",
       "1          KR                 0.0          29.0  Mechanical engineering   \n",
       "2          KR                 0.0          21.0               Chemistry   \n",
       "3          DE                 0.0          29.0  Mechanical engineering   \n",
       "\n",
       "              wipo_field_title  \n",
       "0                  Measurement  \n",
       "1       Other special machines  \n",
       "2  Surface technology, coating  \n",
       "3       Other special machines  \n",
       "\n",
       "[4 rows x 23 columns]"
      ]
     },
     "execution_count": 33,
     "metadata": {},
     "output_type": "execute_result"
    }
   ],
   "source": [
    "TechType_df.head(4)"
   ]
  },
  {
   "cell_type": "code",
   "execution_count": 34,
   "metadata": {},
   "outputs": [
    {
     "data": {
      "text/plain": [
       "2119"
      ]
     },
     "execution_count": 34,
     "metadata": {},
     "output_type": "execute_result"
    }
   ],
   "source": [
    "sum(TechType_df['raw_country'].isna())"
   ]
  },
  {
   "cell_type": "code",
   "execution_count": 35,
   "metadata": {},
   "outputs": [
    {
     "data": {
      "text/plain": [
       "Index(['patent_id', 'patent_type', 'patent_date', 'patent_title', 'wipo_kind',\n",
       "       'num_claims', 'withdrawn', 'filename', 'inventor_sequence',\n",
       "       'inventor_id', 'raw_inventor_name_first', 'raw_inventor_name_last',\n",
       "       'deceased_flag', 'rawlocation_id', 'raw_assignee_organization',\n",
       "       'location_id', 'raw_city', 'raw_state', 'raw_country',\n",
       "       'wipo_field_sequence', 'wipo_field_id', 'wipo_sector_title',\n",
       "       'wipo_field_title'],\n",
       "      dtype='object')"
      ]
     },
     "execution_count": 35,
     "metadata": {},
     "output_type": "execute_result"
    }
   ],
   "source": [
    "TechType_df.columns"
   ]
  },
  {
   "cell_type": "code",
   "execution_count": 36,
   "metadata": {},
   "outputs": [],
   "source": [
    "### Dropping Unecessary Columns\n",
    "df_patent_ID = TechType_df.drop(['patent_type', 'inventor_sequence', 'deceased_flag', 'wipo_kind','rawlocation_id','location_id','wipo_field_sequence','num_claims'], axis = 1)"
   ]
  },
  {
   "cell_type": "code",
   "execution_count": 37,
   "metadata": {},
   "outputs": [
    {
     "data": {
      "text/html": [
       "<div>\n",
       "<style scoped>\n",
       "    .dataframe tbody tr th:only-of-type {\n",
       "        vertical-align: middle;\n",
       "    }\n",
       "\n",
       "    .dataframe tbody tr th {\n",
       "        vertical-align: top;\n",
       "    }\n",
       "\n",
       "    .dataframe thead th {\n",
       "        text-align: right;\n",
       "    }\n",
       "</style>\n",
       "<table border=\"1\" class=\"dataframe\">\n",
       "  <thead>\n",
       "    <tr style=\"text-align: right;\">\n",
       "      <th></th>\n",
       "      <th>patent_id</th>\n",
       "      <th>patent_date</th>\n",
       "      <th>patent_title</th>\n",
       "      <th>withdrawn</th>\n",
       "      <th>filename</th>\n",
       "      <th>inventor_id</th>\n",
       "      <th>raw_inventor_name_first</th>\n",
       "      <th>raw_inventor_name_last</th>\n",
       "      <th>raw_assignee_organization</th>\n",
       "      <th>raw_city</th>\n",
       "      <th>raw_state</th>\n",
       "      <th>raw_country</th>\n",
       "      <th>wipo_field_id</th>\n",
       "      <th>wipo_sector_title</th>\n",
       "      <th>wipo_field_title</th>\n",
       "    </tr>\n",
       "  </thead>\n",
       "  <tbody>\n",
       "    <tr>\n",
       "      <th>0</th>\n",
       "      <td>10000000</td>\n",
       "      <td>2018-06-19</td>\n",
       "      <td>Coherent LADAR using intra-pixel quadrature de...</td>\n",
       "      <td>0</td>\n",
       "      <td>ipg180619.xml</td>\n",
       "      <td>fl:jo_ln:marron-5</td>\n",
       "      <td>Joseph</td>\n",
       "      <td>Marron</td>\n",
       "      <td>Raytheon Company</td>\n",
       "      <td>Manhattan Beach</td>\n",
       "      <td>CA</td>\n",
       "      <td>US</td>\n",
       "      <td>10.0</td>\n",
       "      <td>Instruments</td>\n",
       "      <td>Measurement</td>\n",
       "    </tr>\n",
       "    <tr>\n",
       "      <th>1</th>\n",
       "      <td>10000001</td>\n",
       "      <td>2018-06-19</td>\n",
       "      <td>Injection molding machine and mold thickness c...</td>\n",
       "      <td>0</td>\n",
       "      <td>ipg180619.xml</td>\n",
       "      <td>fl:su_ln:lee-438</td>\n",
       "      <td>Sun-Woo</td>\n",
       "      <td>Lee</td>\n",
       "      <td>LS MTRON LTD.</td>\n",
       "      <td>Gunpo-si</td>\n",
       "      <td>NaN</td>\n",
       "      <td>KR</td>\n",
       "      <td>29.0</td>\n",
       "      <td>Mechanical engineering</td>\n",
       "      <td>Other special machines</td>\n",
       "    </tr>\n",
       "    <tr>\n",
       "      <th>2</th>\n",
       "      <td>10000002</td>\n",
       "      <td>2018-06-19</td>\n",
       "      <td>Method for manufacturing polymer film and co-e...</td>\n",
       "      <td>0</td>\n",
       "      <td>ipg180619.xml</td>\n",
       "      <td>fl:yu_ln:kim-65</td>\n",
       "      <td>Yun-Jo</td>\n",
       "      <td>Kim</td>\n",
       "      <td>KOLON INDUSTRIES, INC.</td>\n",
       "      <td>Yongin-si</td>\n",
       "      <td>NaN</td>\n",
       "      <td>KR</td>\n",
       "      <td>21.0</td>\n",
       "      <td>Chemistry</td>\n",
       "      <td>Surface technology, coating</td>\n",
       "    </tr>\n",
       "    <tr>\n",
       "      <th>3</th>\n",
       "      <td>10000003</td>\n",
       "      <td>2018-06-19</td>\n",
       "      <td>Method for producing a container from a thermo...</td>\n",
       "      <td>0</td>\n",
       "      <td>ipg180619.xml</td>\n",
       "      <td>fl:gu_ln:bergmann-3</td>\n",
       "      <td>Guido</td>\n",
       "      <td>Bergmann</td>\n",
       "      <td>KAUTEX TEXTRON GMBH &amp; CO. KG</td>\n",
       "      <td>St. Augustin</td>\n",
       "      <td>NaN</td>\n",
       "      <td>DE</td>\n",
       "      <td>29.0</td>\n",
       "      <td>Mechanical engineering</td>\n",
       "      <td>Other special machines</td>\n",
       "    </tr>\n",
       "  </tbody>\n",
       "</table>\n",
       "</div>"
      ],
      "text/plain": [
       "  patent_id patent_date                                       patent_title  \\\n",
       "0  10000000  2018-06-19  Coherent LADAR using intra-pixel quadrature de...   \n",
       "1  10000001  2018-06-19  Injection molding machine and mold thickness c...   \n",
       "2  10000002  2018-06-19  Method for manufacturing polymer film and co-e...   \n",
       "3  10000003  2018-06-19  Method for producing a container from a thermo...   \n",
       "\n",
       "   withdrawn       filename          inventor_id raw_inventor_name_first  \\\n",
       "0          0  ipg180619.xml    fl:jo_ln:marron-5                  Joseph   \n",
       "1          0  ipg180619.xml     fl:su_ln:lee-438                 Sun-Woo   \n",
       "2          0  ipg180619.xml      fl:yu_ln:kim-65                  Yun-Jo   \n",
       "3          0  ipg180619.xml  fl:gu_ln:bergmann-3                   Guido   \n",
       "\n",
       "  raw_inventor_name_last     raw_assignee_organization         raw_city  \\\n",
       "0                 Marron              Raytheon Company  Manhattan Beach   \n",
       "1                    Lee                 LS MTRON LTD.         Gunpo-si   \n",
       "2                    Kim        KOLON INDUSTRIES, INC.        Yongin-si   \n",
       "3               Bergmann  KAUTEX TEXTRON GMBH & CO. KG     St. Augustin   \n",
       "\n",
       "  raw_state raw_country  wipo_field_id       wipo_sector_title  \\\n",
       "0        CA          US           10.0             Instruments   \n",
       "1       NaN          KR           29.0  Mechanical engineering   \n",
       "2       NaN          KR           21.0               Chemistry   \n",
       "3       NaN          DE           29.0  Mechanical engineering   \n",
       "\n",
       "              wipo_field_title  \n",
       "0                  Measurement  \n",
       "1       Other special machines  \n",
       "2  Surface technology, coating  \n",
       "3       Other special machines  "
      ]
     },
     "execution_count": 37,
     "metadata": {},
     "output_type": "execute_result"
    }
   ],
   "source": [
    "df_patent_ID.head(4)"
   ]
  },
  {
   "cell_type": "code",
   "execution_count": 38,
   "metadata": {},
   "outputs": [
    {
     "data": {
      "text/plain": [
       "0"
      ]
     },
     "execution_count": 38,
     "metadata": {},
     "output_type": "execute_result"
    }
   ],
   "source": [
    "#check all patent id is unique\n",
    "len(df_patent_ID['patent_id'].unique()) - len(df_patent_ID)"
   ]
  },
  {
   "cell_type": "code",
   "execution_count": 39,
   "metadata": {},
   "outputs": [],
   "source": [
    "df_patent_ID.to_csv(\"patent_info_V3.csv\", index=False)"
   ]
  }
 ],
 "metadata": {
  "kernelspec": {
   "display_name": "Python 3",
   "language": "python",
   "name": "python3"
  },
  "language_info": {
   "codemirror_mode": {
    "name": "ipython",
    "version": 3
   },
   "file_extension": ".py",
   "mimetype": "text/x-python",
   "name": "python",
   "nbconvert_exporter": "python",
   "pygments_lexer": "ipython3",
   "version": "3.11.5"
  }
 },
 "nbformat": 4,
 "nbformat_minor": 2
}
